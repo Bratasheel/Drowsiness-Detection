{
 "cells": [
  {
   "cell_type": "code",
   "execution_count": 1,
   "id": "cd1794cc",
   "metadata": {},
   "outputs": [
    {
     "data": {
      "text/html": [
       "        <script type=\"text/javascript\">\n",
       "        window.PlotlyConfig = {MathJaxConfig: 'local'};\n",
       "        if (window.MathJax && window.MathJax.Hub && window.MathJax.Hub.Config) {window.MathJax.Hub.Config({SVG: {font: \"STIX-Web\"}});}\n",
       "        if (typeof require !== 'undefined') {\n",
       "        require.undef(\"plotly\");\n",
       "        requirejs.config({\n",
       "            paths: {\n",
       "                'plotly': ['https://cdn.plot.ly/plotly-2.20.0.min']\n",
       "            }\n",
       "        });\n",
       "        require(['plotly'], function(Plotly) {\n",
       "            window._Plotly = Plotly;\n",
       "        });\n",
       "        }\n",
       "        </script>\n",
       "        "
      ]
     },
     "metadata": {},
     "output_type": "display_data"
    },
    {
     "data": {
      "text/html": [
       "        <script type=\"text/javascript\">\n",
       "        window.PlotlyConfig = {MathJaxConfig: 'local'};\n",
       "        if (window.MathJax && window.MathJax.Hub && window.MathJax.Hub.Config) {window.MathJax.Hub.Config({SVG: {font: \"STIX-Web\"}});}\n",
       "        if (typeof require !== 'undefined') {\n",
       "        require.undef(\"plotly\");\n",
       "        requirejs.config({\n",
       "            paths: {\n",
       "                'plotly': ['https://cdn.plot.ly/plotly-2.20.0.min']\n",
       "            }\n",
       "        });\n",
       "        require(['plotly'], function(Plotly) {\n",
       "            window._Plotly = Plotly;\n",
       "        });\n",
       "        }\n",
       "        </script>\n",
       "        "
      ]
     },
     "metadata": {},
     "output_type": "display_data"
    }
   ],
   "source": [
    "import cv2\n",
    "import os\n",
    "import imutils\n",
    "from imutils import face_utils\n",
    "import dlib\n",
    "from scipy.spatial import distance \n",
    "import vlc\n",
    "import numpy as np\n",
    "import matplotlib.pyplot as plt\n",
    "%matplotlib inline\n",
    "import pandas as pd\n",
    "import time\n",
    "import cufflinks as cf\n",
    "from plotly.offline import download_plotlyjs,init_notebook_mode,plot,iplot\n",
    "init_notebook_mode(connected=True)\n",
    "cf.go_offline()"
   ]
  },
  {
   "cell_type": "code",
   "execution_count": 2,
   "id": "e1959abc",
   "metadata": {},
   "outputs": [],
   "source": [
    "alerty=vlc.MediaPlayer('Sounds/yawn.mp3')\n",
    "alerte=vlc.MediaPlayer('Sounds/SLEEP.mp3')\n",
    "alertt=vlc.MediaPlayer('Sounds/TAKE REST.mp3')\n",
    "thresh=0.25\n",
    "thresh2=0.6\n",
    "flag=0\n",
    "flag2=0\n",
    "flag3=0"
   ]
  },
  {
   "cell_type": "code",
   "execution_count": 3,
   "id": "52864496",
   "metadata": {},
   "outputs": [],
   "source": [
    "def getFaceDirection(shape, size):\n",
    "    image_points = np.array([\n",
    "                                shape[33],    # Nose tip\n",
    "                                shape[8],     # Chin\n",
    "                                shape[45],    # Left eye left corner\n",
    "                                shape[36],    # Right eye right corne\n",
    "                                shape[54],    # Left Mouth corner\n",
    "                                shape[48]     # Right mouth corner\n",
    "                            ], dtype=\"double\")\n",
    "    \n",
    "    # 3D model points.\n",
    "    model_points = np.array([\n",
    "                                (0.0, 0.0, 0.0),             # Nose tip\n",
    "                                (0.0, -330.0, -65.0),        # Chin\n",
    "                                (-225.0, 170.0, -135.0),     # Left eye left corner\n",
    "                                (225.0, 170.0, -135.0),      # Right eye right corne\n",
    "                                (-150.0, -150.0, -125.0),    # Left Mouth corner\n",
    "                                (150.0, -150.0, -125.0)      # Right mouth corner\n",
    "                            \n",
    "                            ])\n",
    "    \n",
    "    # Camera internals\n",
    "    \n",
    "    focal_length = size[1]\n",
    "    center = (size[1]/2, size[0]/2)\n",
    "    camera_matrix = np.array(\n",
    "                            [[focal_length, 0, center[0]],\n",
    "                            [0, focal_length, center[1]],\n",
    "                            [0, 0, 1]], dtype = \"double\"\n",
    "                            )\n",
    "    dist_coeffs = np.zeros((4,1)) # Assuming no lens distortion\n",
    "    (success, rotation_vector, translation_vector) = cv2.solvePnP(model_points, image_points, camera_matrix, dist_coeffs, flags=cv2.SOLVEPNP_ITERATIVE)\n",
    "    return(translation_vector[1][0])"
   ]
  },
  {
   "cell_type": "code",
   "execution_count": 4,
   "id": "e3775dc8",
   "metadata": {},
   "outputs": [],
   "source": [
    "def eye_aspect_ratio(eye) :\n",
    "        A=distance.euclidean(eye[1],eye[5])\n",
    "        B=distance.euclidean(eye[2],eye[4])\n",
    "        C=distance.euclidean(eye[0],eye[3])\n",
    "        ear = (A+B)/(2.0*C)\n",
    "        return ear\n"
   ]
  },
  {
   "cell_type": "code",
   "execution_count": 5,
   "id": "4886aace",
   "metadata": {},
   "outputs": [],
   "source": [
    "def mouth_aspect_ratio(mouth) :\n",
    "    Am=distance.euclidean(mouth[2],mouth[10])\n",
    "    Bm=distance.euclidean(mouth[4],mouth[8])\n",
    "    Cm=distance.euclidean(mouth[0],mouth[6])\n",
    "    mar = (Am+Bm)/(2.0*Cm)\n",
    "    return mar"
   ]
  },
  {
   "cell_type": "code",
   "execution_count": 6,
   "id": "0a63964f",
   "metadata": {},
   "outputs": [],
   "source": [
    "(lStart, lEnd) = face_utils.FACIAL_LANDMARKS_68_IDXS['left_eye']\n",
    "(rStart, rEnd) = face_utils.FACIAL_LANDMARKS_68_IDXS['right_eye']\n",
    "(mStart, mEnd) = face_utils.FACIAL_LANDMARKS_68_IDXS[\"mouth\"]"
   ]
  },
  {
   "cell_type": "code",
   "execution_count": 7,
   "id": "6f674a96",
   "metadata": {},
   "outputs": [],
   "source": [
    "detect=dlib.get_frontal_face_detector()\n",
    "predict=dlib.shape_predictor(\"Models/shape_predictor_68_face_landmarks.dat\")\n",
    "#predict2=dlib.shape_predictor(\"Models/shape_predictor_81_face_landmarks.dat\")"
   ]
  },
  {
   "cell_type": "code",
   "execution_count": 8,
   "id": "67a6eb09",
   "metadata": {},
   "outputs": [
    {
     "name": "stderr",
     "output_type": "stream",
     "text": [
      "Warning: Ignoring XDG_SESSION_TYPE=wayland on Gnome. Use QT_QPA_PLATFORM=wayland to run on Wayland anyway.\n",
      "QObject::moveToThread: Current thread (0x8473e90) is not the object's thread (0x8736870).\n",
      "Cannot move to target thread (0x8473e90)\n",
      "\n",
      "QObject::moveToThread: Current thread (0x8473e90) is not the object's thread (0x8736870).\n",
      "Cannot move to target thread (0x8473e90)\n",
      "\n",
      "QObject::moveToThread: Current thread (0x8473e90) is not the object's thread (0x8736870).\n",
      "Cannot move to target thread (0x8473e90)\n",
      "\n",
      "QObject::moveToThread: Current thread (0x8473e90) is not the object's thread (0x8736870).\n",
      "Cannot move to target thread (0x8473e90)\n",
      "\n",
      "QObject::moveToThread: Current thread (0x8473e90) is not the object's thread (0x8736870).\n",
      "Cannot move to target thread (0x8473e90)\n",
      "\n",
      "QObject::moveToThread: Current thread (0x8473e90) is not the object's thread (0x8736870).\n",
      "Cannot move to target thread (0x8473e90)\n",
      "\n",
      "QObject::moveToThread: Current thread (0x8473e90) is not the object's thread (0x8736870).\n",
      "Cannot move to target thread (0x8473e90)\n",
      "\n",
      "QObject::moveToThread: Current thread (0x8473e90) is not the object's thread (0x8736870).\n",
      "Cannot move to target thread (0x8473e90)\n",
      "\n",
      "QObject::moveToThread: Current thread (0x8473e90) is not the object's thread (0x8736870).\n",
      "Cannot move to target thread (0x8473e90)\n",
      "\n",
      "QObject::moveToThread: Current thread (0x8473e90) is not the object's thread (0x8736870).\n",
      "Cannot move to target thread (0x8473e90)\n",
      "\n",
      "QObject::moveToThread: Current thread (0x8473e90) is not the object's thread (0x8736870).\n",
      "Cannot move to target thread (0x8473e90)\n",
      "\n",
      "QObject::moveToThread: Current thread (0x8473e90) is not the object's thread (0x8736870).\n",
      "Cannot move to target thread (0x8473e90)\n",
      "\n",
      "QObject::moveToThread: Current thread (0x8473e90) is not the object's thread (0x8736870).\n",
      "Cannot move to target thread (0x8473e90)\n",
      "\n",
      "QObject::moveToThread: Current thread (0x8473e90) is not the object's thread (0x8736870).\n",
      "Cannot move to target thread (0x8473e90)\n",
      "\n",
      "QObject::moveToThread: Current thread (0x8473e90) is not the object's thread (0x8736870).\n",
      "Cannot move to target thread (0x8473e90)\n",
      "\n",
      "QObject::moveToThread: Current thread (0x8473e90) is not the object's thread (0x8736870).\n",
      "Cannot move to target thread (0x8473e90)\n",
      "\n",
      "QObject::moveToThread: Current thread (0x8473e90) is not the object's thread (0x8736870).\n",
      "Cannot move to target thread (0x8473e90)\n",
      "\n",
      "QObject::moveToThread: Current thread (0x8473e90) is not the object's thread (0x8736870).\n",
      "Cannot move to target thread (0x8473e90)\n",
      "\n",
      "QObject::moveToThread: Current thread (0x8473e90) is not the object's thread (0x8736870).\n",
      "Cannot move to target thread (0x8473e90)\n",
      "\n",
      "QObject::moveToThread: Current thread (0x8473e90) is not the object's thread (0x8736870).\n",
      "Cannot move to target thread (0x8473e90)\n",
      "\n",
      "QObject::moveToThread: Current thread (0x8473e90) is not the object's thread (0x8736870).\n",
      "Cannot move to target thread (0x8473e90)\n",
      "\n",
      "QObject::moveToThread: Current thread (0x8473e90) is not the object's thread (0x8736870).\n",
      "Cannot move to target thread (0x8473e90)\n",
      "\n",
      "QObject::moveToThread: Current thread (0x8473e90) is not the object's thread (0x8736870).\n",
      "Cannot move to target thread (0x8473e90)\n",
      "\n",
      "QObject::moveToThread: Current thread (0x8473e90) is not the object's thread (0x8736870).\n",
      "Cannot move to target thread (0x8473e90)\n",
      "\n",
      "QObject::moveToThread: Current thread (0x8473e90) is not the object's thread (0x8736870).\n",
      "Cannot move to target thread (0x8473e90)\n",
      "\n",
      "QObject::moveToThread: Current thread (0x8473e90) is not the object's thread (0x8736870).\n",
      "Cannot move to target thread (0x8473e90)\n",
      "\n",
      "QObject::moveToThread: Current thread (0x8473e90) is not the object's thread (0x8736870).\n",
      "Cannot move to target thread (0x8473e90)\n",
      "\n",
      "QObject::moveToThread: Current thread (0x8473e90) is not the object's thread (0x8736870).\n",
      "Cannot move to target thread (0x8473e90)\n",
      "\n",
      "QObject::moveToThread: Current thread (0x8473e90) is not the object's thread (0x8736870).\n",
      "Cannot move to target thread (0x8473e90)\n",
      "\n",
      "QObject::moveToThread: Current thread (0x8473e90) is not the object's thread (0x8736870).\n",
      "Cannot move to target thread (0x8473e90)\n",
      "\n",
      "QObject::moveToThread: Current thread (0x8473e90) is not the object's thread (0x8736870).\n",
      "Cannot move to target thread (0x8473e90)\n",
      "\n",
      "QObject::moveToThread: Current thread (0x8473e90) is not the object's thread (0x8736870).\n",
      "Cannot move to target thread (0x8473e90)\n",
      "\n",
      "QObject::moveToThread: Current thread (0x8473e90) is not the object's thread (0x8736870).\n",
      "Cannot move to target thread (0x8473e90)\n",
      "\n",
      "QObject::moveToThread: Current thread (0x8473e90) is not the object's thread (0x8736870).\n",
      "Cannot move to target thread (0x8473e90)\n",
      "\n",
      "QObject::moveToThread: Current thread (0x8473e90) is not the object's thread (0x8736870).\n",
      "Cannot move to target thread (0x8473e90)\n",
      "\n",
      "QObject::moveToThread: Current thread (0x8473e90) is not the object's thread (0x8736870).\n",
      "Cannot move to target thread (0x8473e90)\n",
      "\n",
      "QObject::moveToThread: Current thread (0x8473e90) is not the object's thread (0x8736870).\n",
      "Cannot move to target thread (0x8473e90)\n",
      "\n",
      "QObject::moveToThread: Current thread (0x8473e90) is not the object's thread (0x8736870).\n",
      "Cannot move to target thread (0x8473e90)\n",
      "\n",
      "QObject::moveToThread: Current thread (0x8473e90) is not the object's thread (0x8736870).\n",
      "Cannot move to target thread (0x8473e90)\n",
      "\n",
      "QObject::moveToThread: Current thread (0x8473e90) is not the object's thread (0x8736870).\n",
      "Cannot move to target thread (0x8473e90)\n",
      "\n",
      "QObject::moveToThread: Current thread (0x8473e90) is not the object's thread (0x8736870).\n",
      "Cannot move to target thread (0x8473e90)\n",
      "\n",
      "QObject::moveToThread: Current thread (0x8473e90) is not the object's thread (0x8736870).\n",
      "Cannot move to target thread (0x8473e90)\n",
      "\n",
      "QObject::moveToThread: Current thread (0x8473e90) is not the object's thread (0x8736870).\n",
      "Cannot move to target thread (0x8473e90)\n",
      "\n",
      "QObject::moveToThread: Current thread (0x8473e90) is not the object's thread (0x8736870).\n",
      "Cannot move to target thread (0x8473e90)\n",
      "\n",
      "QObject::moveToThread: Current thread (0x8473e90) is not the object's thread (0x8736870).\n",
      "Cannot move to target thread (0x8473e90)\n",
      "\n",
      "QObject::moveToThread: Current thread (0x8473e90) is not the object's thread (0x8736870).\n",
      "Cannot move to target thread (0x8473e90)\n",
      "\n",
      "QObject::moveToThread: Current thread (0x8473e90) is not the object's thread (0x8736870).\n",
      "Cannot move to target thread (0x8473e90)\n",
      "\n",
      "QObject::moveToThread: Current thread (0x8473e90) is not the object's thread (0x8736870).\n",
      "Cannot move to target thread (0x8473e90)\n",
      "\n",
      "QObject::moveToThread: Current thread (0x8473e90) is not the object's thread (0x8736870).\n",
      "Cannot move to target thread (0x8473e90)\n",
      "\n",
      "QObject::moveToThread: Current thread (0x8473e90) is not the object's thread (0x8736870).\n",
      "Cannot move to target thread (0x8473e90)\n",
      "\n",
      "QObject::moveToThread: Current thread (0x8473e90) is not the object's thread (0x8736870).\n",
      "Cannot move to target thread (0x8473e90)\n",
      "\n",
      "QObject::moveToThread: Current thread (0x8473e90) is not the object's thread (0x8736870).\n",
      "Cannot move to target thread (0x8473e90)\n",
      "\n",
      "QObject::moveToThread: Current thread (0x8473e90) is not the object's thread (0x8736870).\n",
      "Cannot move to target thread (0x8473e90)\n",
      "\n",
      "QObject::moveToThread: Current thread (0x8473e90) is not the object's thread (0x8736870).\n",
      "Cannot move to target thread (0x8473e90)\n",
      "\n",
      "QObject::moveToThread: Current thread (0x8473e90) is not the object's thread (0x8736870).\n",
      "Cannot move to target thread (0x8473e90)\n",
      "\n",
      "QObject::moveToThread: Current thread (0x8473e90) is not the object's thread (0x8736870).\n",
      "Cannot move to target thread (0x8473e90)\n",
      "\n",
      "QObject::moveToThread: Current thread (0x8473e90) is not the object's thread (0x8736870).\n",
      "Cannot move to target thread (0x8473e90)\n",
      "\n",
      "QObject::moveToThread: Current thread (0x8473e90) is not the object's thread (0x8736870).\n",
      "Cannot move to target thread (0x8473e90)\n",
      "\n",
      "QObject::moveToThread: Current thread (0x8473e90) is not the object's thread (0x8736870).\n",
      "Cannot move to target thread (0x8473e90)\n",
      "\n",
      "QObject::moveToThread: Current thread (0x8473e90) is not the object's thread (0x8736870).\n",
      "Cannot move to target thread (0x8473e90)\n",
      "\n",
      "QObject::moveToThread: Current thread (0x8473e90) is not the object's thread (0x8736870).\n",
      "Cannot move to target thread (0x8473e90)\n",
      "\n",
      "QObject::moveToThread: Current thread (0x8473e90) is not the object's thread (0x8736870).\n",
      "Cannot move to target thread (0x8473e90)\n",
      "\n",
      "QObject::moveToThread: Current thread (0x8473e90) is not the object's thread (0x8736870).\n",
      "Cannot move to target thread (0x8473e90)\n",
      "\n",
      "QObject::moveToThread: Current thread (0x8473e90) is not the object's thread (0x8736870).\n",
      "Cannot move to target thread (0x8473e90)\n",
      "\n",
      "QObject::moveToThread: Current thread (0x8473e90) is not the object's thread (0x8736870).\n",
      "Cannot move to target thread (0x8473e90)\n",
      "\n",
      "QObject::moveToThread: Current thread (0x8473e90) is not the object's thread (0x8736870).\n",
      "Cannot move to target thread (0x8473e90)\n",
      "\n",
      "QObject::moveToThread: Current thread (0x8473e90) is not the object's thread (0x8736870).\n",
      "Cannot move to target thread (0x8473e90)\n",
      "\n",
      "QObject::moveToThread: Current thread (0x8473e90) is not the object's thread (0x8736870).\n",
      "Cannot move to target thread (0x8473e90)\n",
      "\n",
      "QObject::moveToThread: Current thread (0x8473e90) is not the object's thread (0x8736870).\n",
      "Cannot move to target thread (0x8473e90)\n",
      "\n",
      "QObject::moveToThread: Current thread (0x8473e90) is not the object's thread (0x8736870).\n",
      "Cannot move to target thread (0x8473e90)\n",
      "\n",
      "QObject::moveToThread: Current thread (0x8473e90) is not the object's thread (0x8736870).\n",
      "Cannot move to target thread (0x8473e90)\n",
      "\n",
      "QObject::moveToThread: Current thread (0x8473e90) is not the object's thread (0x8736870).\n",
      "Cannot move to target thread (0x8473e90)\n",
      "\n",
      "QObject::moveToThread: Current thread (0x8473e90) is not the object's thread (0x8736870).\n",
      "Cannot move to target thread (0x8473e90)\n",
      "\n",
      "QObject::moveToThread: Current thread (0x8473e90) is not the object's thread (0x8736870).\n",
      "Cannot move to target thread (0x8473e90)\n",
      "\n",
      "QObject::moveToThread: Current thread (0x8473e90) is not the object's thread (0x8736870).\n",
      "Cannot move to target thread (0x8473e90)\n",
      "\n",
      "QObject::moveToThread: Current thread (0x8473e90) is not the object's thread (0x8736870).\n",
      "Cannot move to target thread (0x8473e90)\n",
      "\n",
      "QObject::moveToThread: Current thread (0x8473e90) is not the object's thread (0x8736870).\n",
      "Cannot move to target thread (0x8473e90)\n",
      "\n",
      "QObject::moveToThread: Current thread (0x8473e90) is not the object's thread (0x8736870).\n",
      "Cannot move to target thread (0x8473e90)\n",
      "\n",
      "QObject::moveToThread: Current thread (0x8473e90) is not the object's thread (0x8736870).\n",
      "Cannot move to target thread (0x8473e90)\n",
      "\n",
      "QObject::moveToThread: Current thread (0x8473e90) is not the object's thread (0x8736870).\n",
      "Cannot move to target thread (0x8473e90)\n",
      "\n",
      "QObject::moveToThread: Current thread (0x8473e90) is not the object's thread (0x8736870).\n",
      "Cannot move to target thread (0x8473e90)\n",
      "\n",
      "QObject::moveToThread: Current thread (0x8473e90) is not the object's thread (0x8736870).\n",
      "Cannot move to target thread (0x8473e90)\n",
      "\n",
      "QObject::moveToThread: Current thread (0x8473e90) is not the object's thread (0x8736870).\n",
      "Cannot move to target thread (0x8473e90)\n",
      "\n",
      "QObject::moveToThread: Current thread (0x8473e90) is not the object's thread (0x8736870).\n",
      "Cannot move to target thread (0x8473e90)\n",
      "\n",
      "QObject::moveToThread: Current thread (0x8473e90) is not the object's thread (0x8736870).\n",
      "Cannot move to target thread (0x8473e90)\n",
      "\n",
      "QObject::moveToThread: Current thread (0x8473e90) is not the object's thread (0x8736870).\n",
      "Cannot move to target thread (0x8473e90)\n",
      "\n",
      "QObject::moveToThread: Current thread (0x8473e90) is not the object's thread (0x8736870).\n",
      "Cannot move to target thread (0x8473e90)\n",
      "\n",
      "QObject::moveToThread: Current thread (0x8473e90) is not the object's thread (0x8736870).\n",
      "Cannot move to target thread (0x8473e90)\n",
      "\n",
      "QObject::moveToThread: Current thread (0x8473e90) is not the object's thread (0x8736870).\n",
      "Cannot move to target thread (0x8473e90)\n",
      "\n",
      "QObject::moveToThread: Current thread (0x8473e90) is not the object's thread (0x8736870).\n",
      "Cannot move to target thread (0x8473e90)\n",
      "\n",
      "QObject::moveToThread: Current thread (0x8473e90) is not the object's thread (0x8736870).\n",
      "Cannot move to target thread (0x8473e90)\n",
      "\n",
      "QObject::moveToThread: Current thread (0x8473e90) is not the object's thread (0x8736870).\n",
      "Cannot move to target thread (0x8473e90)\n",
      "\n",
      "QObject::moveToThread: Current thread (0x8473e90) is not the object's thread (0x8736870).\n",
      "Cannot move to target thread (0x8473e90)\n",
      "\n",
      "QObject::moveToThread: Current thread (0x8473e90) is not the object's thread (0x8736870).\n",
      "Cannot move to target thread (0x8473e90)\n",
      "\n",
      "QObject::moveToThread: Current thread (0x8473e90) is not the object's thread (0x8736870).\n",
      "Cannot move to target thread (0x8473e90)\n",
      "\n",
      "QObject::moveToThread: Current thread (0x8473e90) is not the object's thread (0x8736870).\n",
      "Cannot move to target thread (0x8473e90)\n",
      "\n",
      "QObject::moveToThread: Current thread (0x8473e90) is not the object's thread (0x8736870).\n",
      "Cannot move to target thread (0x8473e90)\n",
      "\n",
      "QObject::moveToThread: Current thread (0x8473e90) is not the object's thread (0x8736870).\n",
      "Cannot move to target thread (0x8473e90)\n",
      "\n",
      "QObject::moveToThread: Current thread (0x8473e90) is not the object's thread (0x8736870).\n",
      "Cannot move to target thread (0x8473e90)\n",
      "\n",
      "QObject::moveToThread: Current thread (0x8473e90) is not the object's thread (0x8736870).\n",
      "Cannot move to target thread (0x8473e90)\n",
      "\n",
      "QObject::moveToThread: Current thread (0x8473e90) is not the object's thread (0x8736870).\n",
      "Cannot move to target thread (0x8473e90)\n",
      "\n",
      "QObject::moveToThread: Current thread (0x8473e90) is not the object's thread (0x8736870).\n",
      "Cannot move to target thread (0x8473e90)\n",
      "\n",
      "QObject::moveToThread: Current thread (0x8473e90) is not the object's thread (0x8736870).\n",
      "Cannot move to target thread (0x8473e90)\n",
      "\n",
      "QObject::moveToThread: Current thread (0x8473e90) is not the object's thread (0x8736870).\n",
      "Cannot move to target thread (0x8473e90)\n",
      "\n",
      "QObject::moveToThread: Current thread (0x8473e90) is not the object's thread (0x8736870).\n",
      "Cannot move to target thread (0x8473e90)\n",
      "\n",
      "QObject::moveToThread: Current thread (0x8473e90) is not the object's thread (0x8736870).\n",
      "Cannot move to target thread (0x8473e90)\n",
      "\n",
      "QObject::moveToThread: Current thread (0x8473e90) is not the object's thread (0x8736870).\n",
      "Cannot move to target thread (0x8473e90)\n",
      "\n",
      "QObject::moveToThread: Current thread (0x8473e90) is not the object's thread (0x8736870).\n",
      "Cannot move to target thread (0x8473e90)\n",
      "\n",
      "QObject::moveToThread: Current thread (0x8473e90) is not the object's thread (0x8736870).\n",
      "Cannot move to target thread (0x8473e90)\n",
      "\n",
      "QObject::moveToThread: Current thread (0x8473e90) is not the object's thread (0x8736870).\n",
      "Cannot move to target thread (0x8473e90)\n",
      "\n",
      "QObject::moveToThread: Current thread (0x8473e90) is not the object's thread (0x8736870).\n",
      "Cannot move to target thread (0x8473e90)\n",
      "\n",
      "QObject::moveToThread: Current thread (0x8473e90) is not the object's thread (0x8736870).\n",
      "Cannot move to target thread (0x8473e90)\n",
      "\n",
      "QObject::moveToThread: Current thread (0x8473e90) is not the object's thread (0x8736870).\n",
      "Cannot move to target thread (0x8473e90)\n",
      "\n",
      "QObject::moveToThread: Current thread (0x8473e90) is not the object's thread (0x8736870).\n",
      "Cannot move to target thread (0x8473e90)\n",
      "\n",
      "QObject::moveToThread: Current thread (0x8473e90) is not the object's thread (0x8736870).\n",
      "Cannot move to target thread (0x8473e90)\n",
      "\n",
      "QObject::moveToThread: Current thread (0x8473e90) is not the object's thread (0x8736870).\n",
      "Cannot move to target thread (0x8473e90)\n",
      "\n",
      "QObject::moveToThread: Current thread (0x8473e90) is not the object's thread (0x8736870).\n",
      "Cannot move to target thread (0x8473e90)\n",
      "\n",
      "QObject::moveToThread: Current thread (0x8473e90) is not the object's thread (0x8736870).\n",
      "Cannot move to target thread (0x8473e90)\n",
      "\n",
      "QObject::moveToThread: Current thread (0x8473e90) is not the object's thread (0x8736870).\n",
      "Cannot move to target thread (0x8473e90)\n",
      "\n",
      "QObject::moveToThread: Current thread (0x8473e90) is not the object's thread (0x8736870).\n",
      "Cannot move to target thread (0x8473e90)\n",
      "\n",
      "QObject::moveToThread: Current thread (0x8473e90) is not the object's thread (0x8736870).\n",
      "Cannot move to target thread (0x8473e90)\n",
      "\n",
      "QObject::moveToThread: Current thread (0x8473e90) is not the object's thread (0x8736870).\n",
      "Cannot move to target thread (0x8473e90)\n",
      "\n",
      "QObject::moveToThread: Current thread (0x8473e90) is not the object's thread (0x8736870).\n",
      "Cannot move to target thread (0x8473e90)\n",
      "\n",
      "QObject::moveToThread: Current thread (0x8473e90) is not the object's thread (0x8736870).\n",
      "Cannot move to target thread (0x8473e90)\n",
      "\n",
      "QObject::moveToThread: Current thread (0x8473e90) is not the object's thread (0x8736870).\n",
      "Cannot move to target thread (0x8473e90)\n",
      "\n",
      "QObject::moveToThread: Current thread (0x8473e90) is not the object's thread (0x8736870).\n",
      "Cannot move to target thread (0x8473e90)\n",
      "\n",
      "QObject::moveToThread: Current thread (0x8473e90) is not the object's thread (0x8736870).\n",
      "Cannot move to target thread (0x8473e90)\n",
      "\n",
      "QObject::moveToThread: Current thread (0x8473e90) is not the object's thread (0x8736870).\n",
      "Cannot move to target thread (0x8473e90)\n",
      "\n",
      "QObject::moveToThread: Current thread (0x8473e90) is not the object's thread (0x8736870).\n",
      "Cannot move to target thread (0x8473e90)\n",
      "\n",
      "QObject::moveToThread: Current thread (0x8473e90) is not the object's thread (0x8736870).\n",
      "Cannot move to target thread (0x8473e90)\n",
      "\n",
      "QObject::moveToThread: Current thread (0x8473e90) is not the object's thread (0x8736870).\n",
      "Cannot move to target thread (0x8473e90)\n",
      "\n",
      "QObject::moveToThread: Current thread (0x8473e90) is not the object's thread (0x8736870).\n",
      "Cannot move to target thread (0x8473e90)\n",
      "\n",
      "QObject::moveToThread: Current thread (0x8473e90) is not the object's thread (0x8736870).\n",
      "Cannot move to target thread (0x8473e90)\n",
      "\n",
      "QObject::moveToThread: Current thread (0x8473e90) is not the object's thread (0x8736870).\n",
      "Cannot move to target thread (0x8473e90)\n",
      "\n",
      "QObject::moveToThread: Current thread (0x8473e90) is not the object's thread (0x8736870).\n",
      "Cannot move to target thread (0x8473e90)\n",
      "\n",
      "QObject::moveToThread: Current thread (0x8473e90) is not the object's thread (0x8736870).\n",
      "Cannot move to target thread (0x8473e90)\n",
      "\n",
      "QObject::moveToThread: Current thread (0x8473e90) is not the object's thread (0x8736870).\n",
      "Cannot move to target thread (0x8473e90)\n",
      "\n",
      "QObject::moveToThread: Current thread (0x8473e90) is not the object's thread (0x8736870).\n",
      "Cannot move to target thread (0x8473e90)\n",
      "\n",
      "QObject::moveToThread: Current thread (0x8473e90) is not the object's thread (0x8736870).\n",
      "Cannot move to target thread (0x8473e90)\n",
      "\n",
      "QObject::moveToThread: Current thread (0x8473e90) is not the object's thread (0x8736870).\n",
      "Cannot move to target thread (0x8473e90)\n",
      "\n",
      "QObject::moveToThread: Current thread (0x8473e90) is not the object's thread (0x8736870).\n",
      "Cannot move to target thread (0x8473e90)\n",
      "\n",
      "QObject::moveToThread: Current thread (0x8473e90) is not the object's thread (0x8736870).\n",
      "Cannot move to target thread (0x8473e90)\n",
      "\n",
      "QObject::moveToThread: Current thread (0x8473e90) is not the object's thread (0x8736870).\n",
      "Cannot move to target thread (0x8473e90)\n",
      "\n",
      "QObject::moveToThread: Current thread (0x8473e90) is not the object's thread (0x8736870).\n",
      "Cannot move to target thread (0x8473e90)\n",
      "\n"
     ]
    },
    {
     "name": "stdout",
     "output_type": "stream",
     "text": [
      "1\n",
      "2\n",
      "3\n",
      "4\n",
      "5\n",
      "6\n",
      "7\n",
      "8\n",
      "9\n",
      "10\n",
      "11\n",
      "12\n",
      "13\n",
      "14\n",
      "15\n",
      "16\n",
      "17\n",
      "18\n",
      "19\n",
      "20\n",
      "21\n",
      "22\n",
      "1\n",
      "2\n",
      "3\n",
      "1\n",
      "2\n",
      "3\n",
      "4\n",
      "5\n",
      "6\n",
      "7\n",
      "8\n",
      "9\n",
      "10\n",
      "11\n",
      "12\n",
      "13\n",
      "14\n",
      "15\n",
      "16\n",
      "17\n",
      "18\n",
      "19\n",
      "20\n",
      "21\n",
      "22\n",
      "23\n",
      "24\n",
      "25\n",
      "26\n",
      "27\n",
      "28\n",
      "29\n",
      "30\n",
      "31\n",
      "32\n",
      "33\n",
      "34\n",
      "35\n",
      "36\n",
      "37\n",
      "38\n",
      "39\n",
      "40\n",
      "41\n",
      "42\n",
      "43\n",
      "44\n",
      "45\n",
      "46\n",
      "47\n",
      "48\n",
      "49\n",
      "50\n",
      "1\n",
      "YAWN 1\n",
      "YAWN 1\n",
      "YAWN 1\n",
      "YAWN 1\n",
      "YAWN 1\n",
      "YAWN 1\n",
      "YAWN 1\n",
      "1\n",
      "YAWN 2\n",
      "YAWN 1\n",
      "YAWN 1\n",
      "YAWN 1\n",
      "1\n",
      "YAWN 2\n",
      "2\n",
      "YAWN 3\n",
      "YAWN 1\n",
      "YAWN 1\n",
      "1\n",
      "YAWN 2\n",
      "2\n",
      "YAWN 3\n",
      "YAWN 1\n",
      "1\n",
      "YAWN 2\n",
      "2\n",
      "YAWN 3\n",
      "YAWN 1\n",
      "1\n",
      "2\n",
      "3\n",
      "1\n",
      "2\n",
      "3\n",
      "1\n",
      "2\n",
      "3\n",
      "4\n",
      "5\n",
      "1\n",
      "YAWN 1\n",
      "YAWN 1\n",
      "1\n",
      "2\n",
      "1\n",
      "YAWN 1\n",
      "YAWN 1\n",
      "YAWN 1\n",
      "YAWN 1\n",
      "YAWN 1\n",
      "YAWN 1\n",
      "YAWN 1\n",
      "YAWN 1\n",
      "1\n",
      "YAWN 2\n",
      "YAWN 1\n",
      "1\n",
      "YAWN 2\n",
      "1\n",
      "2\n",
      "3\n",
      "4\n",
      "5\n",
      "6\n",
      "7\n",
      "YAWN 1\n",
      "8\n",
      "9\n",
      "10\n",
      "11\n",
      "12\n",
      "13\n",
      "14\n",
      "15\n",
      "16\n",
      "17\n",
      "18\n",
      "19\n",
      "20\n",
      "21\n",
      "22\n",
      "23\n",
      "24\n",
      "25\n",
      "26\n",
      "1\n",
      "2\n",
      "3\n",
      "1\n",
      "2\n",
      "3\n",
      "4\n",
      "5\n",
      "6\n",
      "7\n",
      "8\n",
      "1\n",
      "2\n",
      "3\n",
      "4\n",
      "5\n",
      "6\n",
      "7\n",
      "8\n",
      "9\n",
      "1\n",
      "2\n",
      "3\n",
      "4\n",
      "5\n",
      "6\n",
      "7\n",
      "8\n",
      "9\n",
      "10\n",
      "11\n",
      "12\n",
      "13\n",
      "14\n",
      "15\n",
      "16\n",
      "1\n",
      "2\n",
      "3\n",
      "4\n",
      "YAWN 1\n",
      "1\n",
      "YAWN 1\n",
      "YAWN 1\n",
      "YAWN 1\n",
      "YAWN 1\n",
      "YAWN 1\n",
      "YAWN 1\n",
      "1\n",
      "1\n",
      "2\n",
      "3\n",
      "4\n",
      "5\n",
      "6\n",
      "7\n",
      "8\n",
      "9\n",
      "10\n",
      "1\n",
      "2\n",
      "3\n",
      "4\n",
      "5\n",
      "6\n",
      "7\n",
      "8\n",
      "9\n",
      "10\n",
      "11\n",
      "12\n",
      "13\n",
      "14\n",
      "15\n",
      "16\n"
     ]
    }
   ],
   "source": [
    "\n",
    "frame_check=20\n",
    "frame_check2=10\n",
    "cap = cv2.VideoCapture(0)\n",
    "while cap.isOpened():\n",
    "    ret,frame = cap.read()\n",
    "    size = frame.shape\n",
    "    gray =cv2.cvtColor(frame,cv2.COLOR_BGR2GRAY)\n",
    "    subjects = detect(gray,0)\n",
    "    for subject in subjects :\n",
    "        shape = predict(gray, subject)\n",
    "        shape = face_utils.shape_to_np(shape)\n",
    "        #shape2=predict2(gray, subject)\n",
    "        \n",
    "        leftEye = shape[lStart:lEnd]\n",
    "        rightEye = shape[rStart:rEnd]\n",
    "        lips=shape[mStart:mEnd]\n",
    "        \n",
    "        leftEAR = eye_aspect_ratio(leftEye)\n",
    "        rightEAR = eye_aspect_ratio(rightEye)\n",
    "        \n",
    "        mEAR = mouth_aspect_ratio(lips)\n",
    "        ear = (leftEAR + rightEAR)/2.0\n",
    "        \n",
    "        leftEyeHull = cv2.convexHull(leftEye)\n",
    "        rightEyeHull = cv2.convexHull(rightEye)\n",
    "        mouthHull = cv2.convexHull(lips)\n",
    "        \n",
    "        cv2.drawContours(frame, [leftEyeHull],-1, (255,255,255), 1)\n",
    "        cv2.drawContours(frame, [rightEyeHull],-1, (255,255,255), 1)\n",
    "        cv2.drawContours(frame, [mouthHull],-1, (255,255,255), 1)\n",
    "        if mEAR>thresh2 :\n",
    "            flag2+=1\n",
    "            print(\"YAWN\",flag2)\n",
    "            cv2.putText(frame, \"YAWNING!!!\", (10, 30),\n",
    "            cv2.FONT_HERSHEY_SIMPLEX, 0.6, (255, 0,0), 2)\n",
    "            cv2.putText(frame, \"YAWNING!!!\", (10,325),\n",
    "            cv2.FONT_HERSHEY_SIMPLEX, 0.6, (255, 0, 0), 2)\n",
    "            alerty.play()\n",
    "\n",
    "        if ear<thresh :\n",
    "            flag+=1\n",
    "            print(flag)\n",
    "            if flag>=frame_check:\n",
    "                cv2.putText(frame, \"DROWSINESS DETECTED!!!\", (150, 30),\n",
    "                cv2.FONT_HERSHEY_SIMPLEX, 0.6, (255, 0,0), 2)\n",
    "                cv2.putText(frame, \"FEELING SLEEPY!!!\", (150,325),\n",
    "                cv2.FONT_HERSHEY_SIMPLEX, 0.6, (255, 0, 0), 2)\n",
    "                alertt.play()\n",
    "        elif(ear>thresh):\n",
    "            flag=0\n",
    "            flag2=0\n",
    "        if(ear>thresh and mEAR<thresh2):\n",
    "            alertt.stop()\n",
    "            alerty.stop()\n",
    "          \n",
    "        #head position  \n",
    "        for (x, y) in shape:\n",
    "            cv2.circle(frame, (x, y), 1, (0, 255, 0), -1)\n",
    "         \n",
    "        if(getFaceDirection(shape, size)<0):\n",
    "            cv2.putText(frame, \"SIT STRAIGHT!!!\", (10, 225),\n",
    "            cv2.FONT_HERSHEY_SIMPLEX, 0.6, (255, 0,0), 2)\n",
    "    file=open(\"ear1.csv\",\"a\")\n",
    "    file.write(str(ear))\n",
    "    file.write(\"\\n\")\n",
    "    file=open(\"mar.csv\",\"a\")\n",
    "    file.write(str(mEAR))\n",
    "    file.write(\"\\n\")\n",
    "\n",
    "    cv2.imshow('Frame',frame)\n",
    "    \n",
    "    if cv2.waitKey(10) & 0xFF == ord('q'):\n",
    "        break\n",
    "cap.release()\n",
    "cv2.destroyAllWindows()"
   ]
  },
  {
   "cell_type": "markdown",
   "id": "26242265",
   "metadata": {},
   "source": [
    "# Plotting for Eye Aspect Ratio"
   ]
  },
  {
   "cell_type": "code",
   "execution_count": 9,
   "id": "d7e97a1e",
   "metadata": {},
   "outputs": [
    {
     "data": {
      "application/vnd.plotly.v1+json": {
       "config": {
        "linkText": "Export to plot.ly",
        "plotlyServerURL": "https://plot.ly",
        "showLink": true
       },
       "data": [
        {
         "line": {
          "color": "rgba(255, 153, 51, 1.0)",
          "dash": "solid",
          "shape": "linear",
          "width": 1.3
         },
         "mode": "lines",
         "name": "EAR",
         "text": "",
         "type": "scatter",
         "x": [
          0,
          1,
          2,
          3,
          4,
          5,
          6,
          7,
          8,
          9,
          10,
          11,
          12,
          13,
          14,
          15,
          16,
          17,
          18,
          19,
          20,
          21,
          22,
          23,
          24,
          25,
          26,
          27,
          28,
          29,
          30,
          31,
          32,
          33,
          34,
          35,
          36,
          37,
          38,
          39,
          40,
          41,
          42,
          43,
          44,
          45,
          46,
          47,
          48,
          49,
          50,
          51,
          52,
          53,
          54,
          55,
          56,
          57,
          58,
          59,
          60,
          61,
          62,
          63,
          64,
          65,
          66,
          67,
          68,
          69,
          70,
          71,
          72,
          73,
          74,
          75,
          76,
          77,
          78,
          79,
          80,
          81,
          82,
          83,
          84,
          85,
          86,
          87,
          88,
          89,
          90,
          91,
          92,
          93,
          94,
          95,
          96,
          97,
          98,
          99,
          100,
          101,
          102,
          103,
          104,
          105,
          106,
          107,
          108,
          109,
          110,
          111,
          112,
          113,
          114,
          115,
          116,
          117,
          118,
          119,
          120,
          121,
          122,
          123,
          124,
          125,
          126,
          127,
          128,
          129,
          130,
          131,
          132,
          133,
          134,
          135,
          136,
          137,
          138,
          139,
          140,
          141,
          142,
          143,
          144,
          145,
          146,
          147,
          148,
          149,
          150,
          151,
          152,
          153,
          154,
          155,
          156,
          157,
          158,
          159,
          160,
          161,
          162,
          163,
          164,
          165,
          166,
          167,
          168,
          169,
          170,
          171,
          172,
          173,
          174,
          175,
          176,
          177,
          178,
          179,
          180,
          181,
          182,
          183,
          184,
          185,
          186,
          187,
          188,
          189,
          190,
          191,
          192,
          193,
          194,
          195,
          196,
          197,
          198,
          199,
          200,
          201,
          202,
          203,
          204,
          205,
          206,
          207,
          208,
          209,
          210,
          211,
          212,
          213,
          214,
          215,
          216,
          217,
          218,
          219,
          220,
          221,
          222,
          223,
          224,
          225,
          226,
          227,
          228,
          229,
          230,
          231,
          232,
          233,
          234,
          235,
          236,
          237,
          238,
          239,
          240,
          241,
          242,
          243,
          244,
          245,
          246,
          247,
          248,
          249,
          250,
          251,
          252,
          253,
          254,
          255,
          256,
          257,
          258,
          259,
          260,
          261,
          262,
          263,
          264,
          265,
          266,
          267,
          268,
          269,
          270,
          271,
          272,
          273,
          274,
          275,
          276,
          277,
          278,
          279,
          280,
          281,
          282,
          283,
          284,
          285,
          286,
          287,
          288,
          289,
          290,
          291,
          292,
          293,
          294,
          295,
          296,
          297,
          298,
          299,
          300,
          301,
          302,
          303,
          304,
          305,
          306,
          307,
          308,
          309,
          310,
          311,
          312,
          313,
          314,
          315,
          316,
          317,
          318,
          319,
          320,
          321,
          322,
          323,
          324,
          325,
          326,
          327,
          328,
          329,
          330,
          331,
          332,
          333,
          334,
          335,
          336,
          337,
          338,
          339,
          340,
          341,
          342,
          343,
          344,
          345,
          346,
          347,
          348,
          349,
          350,
          351,
          352,
          353,
          354,
          355,
          356,
          357,
          358,
          359,
          360,
          361,
          362,
          363,
          364,
          365,
          366,
          367,
          368,
          369,
          370,
          371,
          372,
          373,
          374,
          375,
          376,
          377,
          378,
          379,
          380,
          381,
          382,
          383,
          384,
          385,
          386,
          387,
          388,
          389,
          390,
          391,
          392,
          393,
          394,
          395,
          396,
          397,
          398,
          399,
          400,
          401,
          402,
          403,
          404,
          405,
          406,
          407,
          408,
          409,
          410,
          411,
          412,
          413,
          414,
          415,
          416,
          417,
          418,
          419,
          420,
          421,
          422,
          423,
          424,
          425,
          426,
          427,
          428,
          429,
          430,
          431,
          432,
          433,
          434,
          435,
          436,
          437,
          438,
          439,
          440,
          441,
          442,
          443,
          444,
          445,
          446,
          447,
          448,
          449,
          450,
          451,
          452,
          453,
          454,
          455,
          456,
          457,
          458,
          459,
          460,
          461,
          462,
          463,
          464,
          465,
          466,
          467,
          468,
          469,
          470,
          471,
          472,
          473,
          474,
          475,
          476,
          477,
          478,
          479,
          480,
          481,
          482,
          483,
          484,
          485,
          486,
          487,
          488,
          489,
          490,
          491,
          492,
          493,
          494,
          495,
          496,
          497,
          498,
          499,
          500,
          501,
          502,
          503,
          504,
          505
         ],
         "y": [
          0.3239585528540795,
          0.3312265130991376,
          0.3256604731107515,
          0.3382611405970613,
          0.3263926896939775,
          0.339646366851034,
          0.3452368523600697,
          0.3266013629919027,
          0.3222946004165059,
          0.3451474631071137,
          0.337615778323815,
          0.3484748496171962,
          0.3193936466918923,
          0.3475671227623937,
          0.3499195172594029,
          0.3323164939504914,
          0.3182662865627904,
          0.3439713317838045,
          0.3381785354807952,
          0.3408495623943756,
          0.3529124376518263,
          0.3653535429423791,
          0.3588022149606126,
          0.3518998382832711,
          0.3518769841674943,
          0.3622001634481727,
          0.3500070390310671,
          0.3359788746063799,
          0.3263208000391286,
          0.3048066493550255,
          0.3129961879617831,
          0.298223233140377,
          0.3031785389142518,
          0.2060210243302497,
          0.1269502972387644,
          0.1222274741274954,
          0.1243114931380373,
          0.1288592418079949,
          0.1021892420658086,
          0.1165489641499903,
          0.117236324333718,
          0.1109192414044067,
          0.1037953784620325,
          0.116961288790006,
          0.1193724008962815,
          0.1124438916356171,
          0.1184617556864884,
          0.1137954548103819,
          0.104138312953326,
          0.0957409175186173,
          0.1159797506363008,
          0.1185662266252731,
          0.0897241977397356,
          0.1427839046808567,
          0.2188781375812527,
          0.2783728739608103,
          0.3182469913403006,
          0.2986407558415802,
          0.3026072771061091,
          0.3022069964190808,
          0.3129961879617831,
          0.3077424189820413,
          0.2942155682335943,
          0.3083946313192737,
          0.3047744153381286,
          0.3119143588128479,
          0.3171951616825277,
          0.3112971932972661,
          0.3094766061448007,
          0.2073721404560002,
          0.1626760995689124,
          0.2198796598278014,
          0.269027114349203,
          0.2836981650600127,
          0.2956034729290342,
          0.2913513801850577,
          0.3001076104671661,
          0.2813104960427237,
          0.2959173711569952,
          0.2812687572774469,
          0.2960280013682063,
          0.3115965648211969,
          0.2961403716454485,
          0.2960743292497079,
          0.2843133497227168,
          0.298987216192262,
          0.2993537901820144,
          0.30305055734972,
          0.3080345076481989,
          0.2995628097052705,
          0.3065459986159913,
          0.2948990862074679,
          0.2995517114439185,
          0.3337518762633849,
          0.2945329865426799,
          0.2920089921614015,
          0.3025727746072425,
          0.299212268406929,
          0.2421265095108848,
          0.1493939543514093,
          0.0903016175136975,
          0.1006479133475484,
          0.1012960538726802,
          0.0999444906979154,
          0.1096247614308399,
          0.139247311827957,
          0.1289651760438322,
          0.1378236288592134,
          0.0980577285984401,
          0.0929673463145206,
          0.1189787797435333,
          0.0926650524202248,
          0.1076608410850712,
          0.1022680558756886,
          0.109322467536544,
          0.0996421968036195,
          0.117070483260875,
          0.0959327261992304,
          0.1009937599783844,
          0.1096578925170275,
          0.1108314457718795,
          0.1380513117243991,
          0.131112248487193,
          0.1141825682302119,
          0.1157777335399273,
          0.1147849462365591,
          0.1064238582521835,
          0.1166342862404506,
          0.1299915043575424,
          0.1064238582521835,
          0.1311827956989247,
          0.1166666666666666,
          0.1166389120156243,
          0.1058016324608556,
          0.1222764327432933,
          0.1244269703777019,
          0.1064238582521835,
          0.1138960131098198,
          0.1064222645191766,
          0.124967619573784,
          0.1129032258064516,
          0.1067204301075268,
          0.1138960131098198,
          0.1240812023533287,
          0.1061180521011796,
          0.1209383935514346,
          0.1620469407821756,
          0.2136383229506407,
          0.2698891489386817,
          0.2801736231147735,
          0.276887698126558,
          0.2841718279476314,
          0.2724681440495141,
          0.3239546273448689,
          0.327337829920365,
          0.3410779698341882,
          0.3362338780686332,
          0.2990436156790808,
          0.3058688835030355,
          0.3064239950462407,
          0.3034688032870666,
          0.2861346942751486,
          0.303160649347268,
          0.3057943688812923,
          0.3106712337645431,
          0.3019372833080052,
          0.2990507817122101,
          0.2725831263241714,
          0.2942299780728756,
          0.287243136561193,
          0.2727553625845477,
          0.2729901939576914,
          0.2539555523507728,
          0.2656918569690084,
          0.2543766133901092,
          0.2572807915772858,
          0.269805786733084,
          0.2614928225034746,
          0.2542239697470208,
          0.261539046753063,
          0.2577522247829318,
          0.269702933134153,
          0.2654232323584578,
          0.2804725040919472,
          0.2842989054858917,
          0.272524080813004,
          0.2812822732963502,
          0.3054342399754838,
          0.2307970833336858,
          0.2847134294164746,
          0.2736523489540942,
          0.2770652056632242,
          0.269241760104422,
          0.2859987652109523,
          0.2575015461526885,
          0.262691068657252,
          0.2659373044977985,
          0.2463721847871232,
          0.2513682556557405,
          0.2627449919264957,
          0.2617286090187263,
          0.2459104992222778,
          0.2455138540066063,
          0.2627651380591212,
          0.2627651380591212,
          0.224045238578298,
          0.245479889018903,
          0.2634862706774051,
          0.2332788706373417,
          0.245084986840441,
          0.2799351902291263,
          0.2879743198251672,
          0.2895106552178563,
          0.2755545574623489,
          0.2804529626201508,
          0.2815350728613396,
          0.2816098831125408,
          0.2771647867568121,
          0.2766520689716156,
          0.3028048033943348,
          0.2951425418741332,
          0.3054726569797994,
          0.3205324879093376,
          0.2882467471646442,
          0.2930902299584255,
          0.2888584890790079,
          0.2678832803558437,
          0.2797464214262897,
          0.2804040694164501,
          0.2829026959525589,
          0.2828205407212251,
          0.28048668174352,
          0.2669650229368685,
          0.2504256071624161,
          0.1531191412400129,
          0.2208831234959084,
          0.2235291603523898,
          0.2580137334061128,
          0.2748324387694441,
          0.2706823170650369,
          0.259157026881965,
          0.2420039761935123,
          0.2334414475798798,
          0.2374778938170047,
          0.2588258801174734,
          0.2385060293287968,
          0.2413943583149392,
          0.2492798893814792,
          0.2225225196200085,
          0.2351597628714418,
          0.2709281902043777,
          0.2412556966943303,
          0.2587826352205974,
          0.2663205484308671,
          0.2433072939602847,
          0.247510793160001,
          0.26274508605551,
          0.2303055596308422,
          0.2581730173420242,
          0.2559605346785221,
          0.2547747080341632,
          0.2595834504286494,
          0.2503047787141069,
          0.2625000717981365,
          0.2935974206215306,
          0.2719994623657367,
          0.2493646749576837,
          0.2714980217546533,
          0.2450859978057536,
          0.2680691508174333,
          0.2586190453205271,
          0.2622715554467186,
          0.2708635041613102,
          0.2719224553602278,
          0.2743909184105674,
          0.2686593685721536,
          0.2650298581067299,
          0.2726647062470975,
          0.2692928866531228,
          0.2543780629264158,
          0.2734409234984525,
          0.2728343476534796,
          0.2731219365743001,
          0.2870020563429939,
          0.2945329865426799,
          0.2800646318412533,
          0.2861346942751486,
          0.3047575933609274,
          0.28723270072118,
          0.2945325122177156,
          0.2828441847556725,
          0.2910481800529895,
          0.2945325122177156,
          0.2649985320505545,
          0.2950902379881844,
          0.3091993310751246,
          0.2698891489386817,
          0.2543307396107598,
          0.1583771180236463,
          0.1591518745713177,
          0.1433563893121834,
          0.1131407065986144,
          0.1118381011853215,
          0.1004372597113428,
          0.1276778926069315,
          0.1653777448332602,
          0.1267999385980799,
          0.1334171601242502,
          0.1112881422308675,
          0.1239164291794801,
          0.1277288638292637,
          0.1268615963771209,
          0.1499944260558721,
          0.1244384953082472,
          0.1184237515614895,
          0.144449423339029,
          0.1485997499952967,
          0.1116894892744369,
          0.1184418023389516,
          0.106044297080427,
          0.1139139836009138,
          0.0977189913613692,
          0.0944880466259642,
          0.2033500749355223,
          0.3038915318470587,
          0.3222947189759337,
          0.3208585566041732,
          0.302241442640384,
          0.3146170562773442,
          0.3258135537865885,
          0.3139342064848687,
          0.3384118913690679,
          0.3244711817011868,
          0.3416779960692263,
          0.3467996934286117,
          0.3338513887645102,
          0.3595035568905342,
          0.3602798651254714,
          0.3258749929541344,
          0.3336107489055713,
          0.329280781171734,
          0.3126501597908607,
          0.3331759173284457,
          0.3224115282317964,
          0.3264198448337827,
          0.3195445509716849,
          0.2397375569167261,
          0.1648360899499436,
          0.2352645198077625,
          0.2945329865426799,
          0.2945834030146647,
          0.3116926751953562,
          0.316530116597109,
          0.3003936180929782,
          0.2941584831706601,
          0.3018748200608857,
          0.2865004921346867,
          0.3161493118944678,
          0.3162711958329179,
          0.3136718759693349,
          0.3093557759056717,
          0.2468790541222185,
          0.1548228953805288,
          0.1353850937602943,
          0.1380895614969166,
          0.1209677419354838,
          0.125955924126928,
          0.1620469407821756,
          0.219860434560398,
          0.2614764858285839,
          0.2885437672041764,
          0.2995292123910502,
          0.2914754705391988,
          0.2914221783382217,
          0.3034474467922806,
          0.3036466109099002,
          0.2986167877473095,
          0.2986167877473095,
          0.2991818229479207,
          0.2800211878344875,
          0.2617799556698312,
          0.1647307813363767,
          0.1138368002058386,
          0.1046964342646565,
          0.1237758120965189,
          0.1074002264120632,
          0.1222128629793174,
          0.1582917013567699,
          0.1838122117609446,
          0.2308238636363636,
          0.2693590822959518,
          0.2849078583722394,
          0.2914638979528824,
          0.2838916162926901,
          0.2807837256086348,
          0.2948974056857489,
          0.2997382319143064,
          0.2914221783382217,
          0.3064702271362844,
          0.2910445060871173,
          0.2917882780030096,
          0.2616792703920286,
          0.21875,
          0.1693129124467499,
          0.1327781928498727,
          0.1438516253145312,
          0.1299915043575424,
          0.1298911943335913,
          0.1222128629793174,
          0.1232051341468029,
          0.1066628939235544,
          0.1160312278645187,
          0.1306880820650106,
          0.1539824246531433,
          0.2198070678824223,
          0.24994090943539,
          0.2461580905201653,
          0.2467035722991418,
          0.2731134203593358,
          0.2773454617492262,
          0.2661178140892781,
          0.269238701098642,
          0.2612997009593321,
          0.2773454617492262,
          0.2728343476534796,
          0.2692803994191922,
          0.2540871895999188,
          0.281977741937055,
          0.2773396064432107,
          0.2726647062470975,
          0.2662997101569027,
          0.2575690723103611,
          0.2493932877682959,
          0.234089607957418,
          0.249454278257411,
          0.2383111755966538,
          0.2539186484721695,
          0.2498775529639476,
          0.2653344556272771,
          0.269247844528762,
          0.291662806974329,
          0.2610714735602346,
          0.2839504569789813,
          0.3071429100708642,
          0.2954990739094396,
          0.3030609564596759,
          0.2954886747994836,
          0.2918241980730433,
          0.2805142237066079,
          0.2728337716973381,
          0.2581189993526748,
          0.2827030985590519,
          0.2865207045135124,
          0.2464152816525904,
          0.2779353130972525,
          0.2579247213400785,
          0.2584644603834114,
          0.2664140318173372,
          0.2733368556783498,
          0.2724149557877143,
          0.2584758627084441,
          0.2770890875136225,
          0.258119192384982,
          0.281614082091444,
          0.2737365685738426,
          0.2889214594939212,
          0.2654953952106303,
          0.2861501612911081,
          0.2783196719925513,
          0.2826334442089702,
          0.2536677977341537,
          0.2582376608488098,
          0.2847287101578121,
          0.285474998712251,
          0.2504253981694673,
          0.2654953952106303,
          0.2222248591284758,
          0.1772353096665567,
          0.1311492546885827,
          0.1916111573645821,
          0.1398936171457965,
          0.1547424051773342,
          0.1643138731795332,
          0.1946811053349885,
          0.2469395764321683,
          0.2380923525410926,
          0.2733040833050606,
          0.2811127713994909,
          0.2615632650612774,
          0.2728971066477185,
          0.242784446331799,
          0.2174657307850463,
          0.1697790917312815,
          0.1308798621831305,
          0.1248568168445408,
          0.106044297080427,
          0.1237063389077521,
          0.1196420938010875,
          0.1190419547358631,
          0.1197694411659085,
          0.0915627322724507,
          0.1139193886258457,
          0.0914588897154685,
          0.121826678204559,
          0.1310489446646317,
          0.1612483963177177
         ]
        }
       ],
       "layout": {
        "legend": {
         "bgcolor": "#F5F6F9",
         "font": {
          "color": "#4D5663"
         }
        },
        "paper_bgcolor": "#F5F6F9",
        "plot_bgcolor": "#F5F6F9",
        "template": {
         "data": {
          "bar": [
           {
            "error_x": {
             "color": "#2a3f5f"
            },
            "error_y": {
             "color": "#2a3f5f"
            },
            "marker": {
             "line": {
              "color": "#E5ECF6",
              "width": 0.5
             },
             "pattern": {
              "fillmode": "overlay",
              "size": 10,
              "solidity": 0.2
             }
            },
            "type": "bar"
           }
          ],
          "barpolar": [
           {
            "marker": {
             "line": {
              "color": "#E5ECF6",
              "width": 0.5
             },
             "pattern": {
              "fillmode": "overlay",
              "size": 10,
              "solidity": 0.2
             }
            },
            "type": "barpolar"
           }
          ],
          "carpet": [
           {
            "aaxis": {
             "endlinecolor": "#2a3f5f",
             "gridcolor": "white",
             "linecolor": "white",
             "minorgridcolor": "white",
             "startlinecolor": "#2a3f5f"
            },
            "baxis": {
             "endlinecolor": "#2a3f5f",
             "gridcolor": "white",
             "linecolor": "white",
             "minorgridcolor": "white",
             "startlinecolor": "#2a3f5f"
            },
            "type": "carpet"
           }
          ],
          "choropleth": [
           {
            "colorbar": {
             "outlinewidth": 0,
             "ticks": ""
            },
            "type": "choropleth"
           }
          ],
          "contour": [
           {
            "colorbar": {
             "outlinewidth": 0,
             "ticks": ""
            },
            "colorscale": [
             [
              0,
              "#0d0887"
             ],
             [
              0.1111111111111111,
              "#46039f"
             ],
             [
              0.2222222222222222,
              "#7201a8"
             ],
             [
              0.3333333333333333,
              "#9c179e"
             ],
             [
              0.4444444444444444,
              "#bd3786"
             ],
             [
              0.5555555555555556,
              "#d8576b"
             ],
             [
              0.6666666666666666,
              "#ed7953"
             ],
             [
              0.7777777777777778,
              "#fb9f3a"
             ],
             [
              0.8888888888888888,
              "#fdca26"
             ],
             [
              1,
              "#f0f921"
             ]
            ],
            "type": "contour"
           }
          ],
          "contourcarpet": [
           {
            "colorbar": {
             "outlinewidth": 0,
             "ticks": ""
            },
            "type": "contourcarpet"
           }
          ],
          "heatmap": [
           {
            "colorbar": {
             "outlinewidth": 0,
             "ticks": ""
            },
            "colorscale": [
             [
              0,
              "#0d0887"
             ],
             [
              0.1111111111111111,
              "#46039f"
             ],
             [
              0.2222222222222222,
              "#7201a8"
             ],
             [
              0.3333333333333333,
              "#9c179e"
             ],
             [
              0.4444444444444444,
              "#bd3786"
             ],
             [
              0.5555555555555556,
              "#d8576b"
             ],
             [
              0.6666666666666666,
              "#ed7953"
             ],
             [
              0.7777777777777778,
              "#fb9f3a"
             ],
             [
              0.8888888888888888,
              "#fdca26"
             ],
             [
              1,
              "#f0f921"
             ]
            ],
            "type": "heatmap"
           }
          ],
          "heatmapgl": [
           {
            "colorbar": {
             "outlinewidth": 0,
             "ticks": ""
            },
            "colorscale": [
             [
              0,
              "#0d0887"
             ],
             [
              0.1111111111111111,
              "#46039f"
             ],
             [
              0.2222222222222222,
              "#7201a8"
             ],
             [
              0.3333333333333333,
              "#9c179e"
             ],
             [
              0.4444444444444444,
              "#bd3786"
             ],
             [
              0.5555555555555556,
              "#d8576b"
             ],
             [
              0.6666666666666666,
              "#ed7953"
             ],
             [
              0.7777777777777778,
              "#fb9f3a"
             ],
             [
              0.8888888888888888,
              "#fdca26"
             ],
             [
              1,
              "#f0f921"
             ]
            ],
            "type": "heatmapgl"
           }
          ],
          "histogram": [
           {
            "marker": {
             "pattern": {
              "fillmode": "overlay",
              "size": 10,
              "solidity": 0.2
             }
            },
            "type": "histogram"
           }
          ],
          "histogram2d": [
           {
            "colorbar": {
             "outlinewidth": 0,
             "ticks": ""
            },
            "colorscale": [
             [
              0,
              "#0d0887"
             ],
             [
              0.1111111111111111,
              "#46039f"
             ],
             [
              0.2222222222222222,
              "#7201a8"
             ],
             [
              0.3333333333333333,
              "#9c179e"
             ],
             [
              0.4444444444444444,
              "#bd3786"
             ],
             [
              0.5555555555555556,
              "#d8576b"
             ],
             [
              0.6666666666666666,
              "#ed7953"
             ],
             [
              0.7777777777777778,
              "#fb9f3a"
             ],
             [
              0.8888888888888888,
              "#fdca26"
             ],
             [
              1,
              "#f0f921"
             ]
            ],
            "type": "histogram2d"
           }
          ],
          "histogram2dcontour": [
           {
            "colorbar": {
             "outlinewidth": 0,
             "ticks": ""
            },
            "colorscale": [
             [
              0,
              "#0d0887"
             ],
             [
              0.1111111111111111,
              "#46039f"
             ],
             [
              0.2222222222222222,
              "#7201a8"
             ],
             [
              0.3333333333333333,
              "#9c179e"
             ],
             [
              0.4444444444444444,
              "#bd3786"
             ],
             [
              0.5555555555555556,
              "#d8576b"
             ],
             [
              0.6666666666666666,
              "#ed7953"
             ],
             [
              0.7777777777777778,
              "#fb9f3a"
             ],
             [
              0.8888888888888888,
              "#fdca26"
             ],
             [
              1,
              "#f0f921"
             ]
            ],
            "type": "histogram2dcontour"
           }
          ],
          "mesh3d": [
           {
            "colorbar": {
             "outlinewidth": 0,
             "ticks": ""
            },
            "type": "mesh3d"
           }
          ],
          "parcoords": [
           {
            "line": {
             "colorbar": {
              "outlinewidth": 0,
              "ticks": ""
             }
            },
            "type": "parcoords"
           }
          ],
          "pie": [
           {
            "automargin": true,
            "type": "pie"
           }
          ],
          "scatter": [
           {
            "fillpattern": {
             "fillmode": "overlay",
             "size": 10,
             "solidity": 0.2
            },
            "type": "scatter"
           }
          ],
          "scatter3d": [
           {
            "line": {
             "colorbar": {
              "outlinewidth": 0,
              "ticks": ""
             }
            },
            "marker": {
             "colorbar": {
              "outlinewidth": 0,
              "ticks": ""
             }
            },
            "type": "scatter3d"
           }
          ],
          "scattercarpet": [
           {
            "marker": {
             "colorbar": {
              "outlinewidth": 0,
              "ticks": ""
             }
            },
            "type": "scattercarpet"
           }
          ],
          "scattergeo": [
           {
            "marker": {
             "colorbar": {
              "outlinewidth": 0,
              "ticks": ""
             }
            },
            "type": "scattergeo"
           }
          ],
          "scattergl": [
           {
            "marker": {
             "colorbar": {
              "outlinewidth": 0,
              "ticks": ""
             }
            },
            "type": "scattergl"
           }
          ],
          "scattermapbox": [
           {
            "marker": {
             "colorbar": {
              "outlinewidth": 0,
              "ticks": ""
             }
            },
            "type": "scattermapbox"
           }
          ],
          "scatterpolar": [
           {
            "marker": {
             "colorbar": {
              "outlinewidth": 0,
              "ticks": ""
             }
            },
            "type": "scatterpolar"
           }
          ],
          "scatterpolargl": [
           {
            "marker": {
             "colorbar": {
              "outlinewidth": 0,
              "ticks": ""
             }
            },
            "type": "scatterpolargl"
           }
          ],
          "scatterternary": [
           {
            "marker": {
             "colorbar": {
              "outlinewidth": 0,
              "ticks": ""
             }
            },
            "type": "scatterternary"
           }
          ],
          "surface": [
           {
            "colorbar": {
             "outlinewidth": 0,
             "ticks": ""
            },
            "colorscale": [
             [
              0,
              "#0d0887"
             ],
             [
              0.1111111111111111,
              "#46039f"
             ],
             [
              0.2222222222222222,
              "#7201a8"
             ],
             [
              0.3333333333333333,
              "#9c179e"
             ],
             [
              0.4444444444444444,
              "#bd3786"
             ],
             [
              0.5555555555555556,
              "#d8576b"
             ],
             [
              0.6666666666666666,
              "#ed7953"
             ],
             [
              0.7777777777777778,
              "#fb9f3a"
             ],
             [
              0.8888888888888888,
              "#fdca26"
             ],
             [
              1,
              "#f0f921"
             ]
            ],
            "type": "surface"
           }
          ],
          "table": [
           {
            "cells": {
             "fill": {
              "color": "#EBF0F8"
             },
             "line": {
              "color": "white"
             }
            },
            "header": {
             "fill": {
              "color": "#C8D4E3"
             },
             "line": {
              "color": "white"
             }
            },
            "type": "table"
           }
          ]
         },
         "layout": {
          "annotationdefaults": {
           "arrowcolor": "#2a3f5f",
           "arrowhead": 0,
           "arrowwidth": 1
          },
          "autotypenumbers": "strict",
          "coloraxis": {
           "colorbar": {
            "outlinewidth": 0,
            "ticks": ""
           }
          },
          "colorscale": {
           "diverging": [
            [
             0,
             "#8e0152"
            ],
            [
             0.1,
             "#c51b7d"
            ],
            [
             0.2,
             "#de77ae"
            ],
            [
             0.3,
             "#f1b6da"
            ],
            [
             0.4,
             "#fde0ef"
            ],
            [
             0.5,
             "#f7f7f7"
            ],
            [
             0.6,
             "#e6f5d0"
            ],
            [
             0.7,
             "#b8e186"
            ],
            [
             0.8,
             "#7fbc41"
            ],
            [
             0.9,
             "#4d9221"
            ],
            [
             1,
             "#276419"
            ]
           ],
           "sequential": [
            [
             0,
             "#0d0887"
            ],
            [
             0.1111111111111111,
             "#46039f"
            ],
            [
             0.2222222222222222,
             "#7201a8"
            ],
            [
             0.3333333333333333,
             "#9c179e"
            ],
            [
             0.4444444444444444,
             "#bd3786"
            ],
            [
             0.5555555555555556,
             "#d8576b"
            ],
            [
             0.6666666666666666,
             "#ed7953"
            ],
            [
             0.7777777777777778,
             "#fb9f3a"
            ],
            [
             0.8888888888888888,
             "#fdca26"
            ],
            [
             1,
             "#f0f921"
            ]
           ],
           "sequentialminus": [
            [
             0,
             "#0d0887"
            ],
            [
             0.1111111111111111,
             "#46039f"
            ],
            [
             0.2222222222222222,
             "#7201a8"
            ],
            [
             0.3333333333333333,
             "#9c179e"
            ],
            [
             0.4444444444444444,
             "#bd3786"
            ],
            [
             0.5555555555555556,
             "#d8576b"
            ],
            [
             0.6666666666666666,
             "#ed7953"
            ],
            [
             0.7777777777777778,
             "#fb9f3a"
            ],
            [
             0.8888888888888888,
             "#fdca26"
            ],
            [
             1,
             "#f0f921"
            ]
           ]
          },
          "colorway": [
           "#636efa",
           "#EF553B",
           "#00cc96",
           "#ab63fa",
           "#FFA15A",
           "#19d3f3",
           "#FF6692",
           "#B6E880",
           "#FF97FF",
           "#FECB52"
          ],
          "font": {
           "color": "#2a3f5f"
          },
          "geo": {
           "bgcolor": "white",
           "lakecolor": "white",
           "landcolor": "#E5ECF6",
           "showlakes": true,
           "showland": true,
           "subunitcolor": "white"
          },
          "hoverlabel": {
           "align": "left"
          },
          "hovermode": "closest",
          "mapbox": {
           "style": "light"
          },
          "paper_bgcolor": "white",
          "plot_bgcolor": "#E5ECF6",
          "polar": {
           "angularaxis": {
            "gridcolor": "white",
            "linecolor": "white",
            "ticks": ""
           },
           "bgcolor": "#E5ECF6",
           "radialaxis": {
            "gridcolor": "white",
            "linecolor": "white",
            "ticks": ""
           }
          },
          "scene": {
           "xaxis": {
            "backgroundcolor": "#E5ECF6",
            "gridcolor": "white",
            "gridwidth": 2,
            "linecolor": "white",
            "showbackground": true,
            "ticks": "",
            "zerolinecolor": "white"
           },
           "yaxis": {
            "backgroundcolor": "#E5ECF6",
            "gridcolor": "white",
            "gridwidth": 2,
            "linecolor": "white",
            "showbackground": true,
            "ticks": "",
            "zerolinecolor": "white"
           },
           "zaxis": {
            "backgroundcolor": "#E5ECF6",
            "gridcolor": "white",
            "gridwidth": 2,
            "linecolor": "white",
            "showbackground": true,
            "ticks": "",
            "zerolinecolor": "white"
           }
          },
          "shapedefaults": {
           "line": {
            "color": "#2a3f5f"
           }
          },
          "ternary": {
           "aaxis": {
            "gridcolor": "white",
            "linecolor": "white",
            "ticks": ""
           },
           "baxis": {
            "gridcolor": "white",
            "linecolor": "white",
            "ticks": ""
           },
           "bgcolor": "#E5ECF6",
           "caxis": {
            "gridcolor": "white",
            "linecolor": "white",
            "ticks": ""
           }
          },
          "title": {
           "x": 0.05
          },
          "xaxis": {
           "automargin": true,
           "gridcolor": "white",
           "linecolor": "white",
           "ticks": "",
           "title": {
            "standoff": 15
           },
           "zerolinecolor": "white",
           "zerolinewidth": 2
          },
          "yaxis": {
           "automargin": true,
           "gridcolor": "white",
           "linecolor": "white",
           "ticks": "",
           "title": {
            "standoff": 15
           },
           "zerolinecolor": "white",
           "zerolinewidth": 2
          }
         }
        },
        "title": {
         "font": {
          "color": "#4D5663"
         },
         "text": "EYE_ASPECT_RATIO"
        },
        "xaxis": {
         "gridcolor": "#E1E5ED",
         "showgrid": true,
         "tickfont": {
          "color": "#4D5663"
         },
         "title": {
          "font": {
           "color": "#4D5663"
          },
          "text": ""
         },
         "zerolinecolor": "#E1E5ED"
        },
        "yaxis": {
         "gridcolor": "#E1E5ED",
         "showgrid": true,
         "tickfont": {
          "color": "#4D5663"
         },
         "title": {
          "font": {
           "color": "#4D5663"
          },
          "text": ""
         },
         "zerolinecolor": "#E1E5ED"
        }
       }
      },
      "text/html": [
       "<div>                            <div id=\"c8ae1231-cf6f-45a0-bd5d-5a49a6a43fb2\" class=\"plotly-graph-div\" style=\"height:525px; width:100%;\"></div>            <script type=\"text/javascript\">                require([\"plotly\"], function(Plotly) {                    window.PLOTLYENV=window.PLOTLYENV || {};\n",
       "                    window.PLOTLYENV.BASE_URL='https://plot.ly';                                    if (document.getElementById(\"c8ae1231-cf6f-45a0-bd5d-5a49a6a43fb2\")) {                    Plotly.newPlot(                        \"c8ae1231-cf6f-45a0-bd5d-5a49a6a43fb2\",                        [{\"line\":{\"color\":\"rgba(255, 153, 51, 1.0)\",\"dash\":\"solid\",\"shape\":\"linear\",\"width\":1.3},\"mode\":\"lines\",\"name\":\"EAR\",\"text\":\"\",\"x\":[0,1,2,3,4,5,6,7,8,9,10,11,12,13,14,15,16,17,18,19,20,21,22,23,24,25,26,27,28,29,30,31,32,33,34,35,36,37,38,39,40,41,42,43,44,45,46,47,48,49,50,51,52,53,54,55,56,57,58,59,60,61,62,63,64,65,66,67,68,69,70,71,72,73,74,75,76,77,78,79,80,81,82,83,84,85,86,87,88,89,90,91,92,93,94,95,96,97,98,99,100,101,102,103,104,105,106,107,108,109,110,111,112,113,114,115,116,117,118,119,120,121,122,123,124,125,126,127,128,129,130,131,132,133,134,135,136,137,138,139,140,141,142,143,144,145,146,147,148,149,150,151,152,153,154,155,156,157,158,159,160,161,162,163,164,165,166,167,168,169,170,171,172,173,174,175,176,177,178,179,180,181,182,183,184,185,186,187,188,189,190,191,192,193,194,195,196,197,198,199,200,201,202,203,204,205,206,207,208,209,210,211,212,213,214,215,216,217,218,219,220,221,222,223,224,225,226,227,228,229,230,231,232,233,234,235,236,237,238,239,240,241,242,243,244,245,246,247,248,249,250,251,252,253,254,255,256,257,258,259,260,261,262,263,264,265,266,267,268,269,270,271,272,273,274,275,276,277,278,279,280,281,282,283,284,285,286,287,288,289,290,291,292,293,294,295,296,297,298,299,300,301,302,303,304,305,306,307,308,309,310,311,312,313,314,315,316,317,318,319,320,321,322,323,324,325,326,327,328,329,330,331,332,333,334,335,336,337,338,339,340,341,342,343,344,345,346,347,348,349,350,351,352,353,354,355,356,357,358,359,360,361,362,363,364,365,366,367,368,369,370,371,372,373,374,375,376,377,378,379,380,381,382,383,384,385,386,387,388,389,390,391,392,393,394,395,396,397,398,399,400,401,402,403,404,405,406,407,408,409,410,411,412,413,414,415,416,417,418,419,420,421,422,423,424,425,426,427,428,429,430,431,432,433,434,435,436,437,438,439,440,441,442,443,444,445,446,447,448,449,450,451,452,453,454,455,456,457,458,459,460,461,462,463,464,465,466,467,468,469,470,471,472,473,474,475,476,477,478,479,480,481,482,483,484,485,486,487,488,489,490,491,492,493,494,495,496,497,498,499,500,501,502,503,504,505],\"y\":[0.3239585528540795,0.3312265130991376,0.3256604731107515,0.3382611405970613,0.3263926896939775,0.339646366851034,0.3452368523600697,0.3266013629919027,0.3222946004165059,0.3451474631071137,0.337615778323815,0.3484748496171962,0.3193936466918923,0.3475671227623937,0.3499195172594029,0.3323164939504914,0.3182662865627904,0.3439713317838045,0.3381785354807952,0.3408495623943756,0.3529124376518263,0.3653535429423791,0.3588022149606126,0.3518998382832711,0.3518769841674943,0.3622001634481727,0.3500070390310671,0.3359788746063799,0.3263208000391286,0.3048066493550255,0.3129961879617831,0.298223233140377,0.3031785389142518,0.2060210243302497,0.1269502972387644,0.1222274741274954,0.1243114931380373,0.1288592418079949,0.1021892420658086,0.1165489641499903,0.117236324333718,0.1109192414044067,0.1037953784620325,0.116961288790006,0.1193724008962815,0.1124438916356171,0.1184617556864884,0.1137954548103819,0.104138312953326,0.0957409175186173,0.1159797506363008,0.1185662266252731,0.0897241977397356,0.1427839046808567,0.2188781375812527,0.2783728739608103,0.3182469913403006,0.2986407558415802,0.3026072771061091,0.3022069964190808,0.3129961879617831,0.3077424189820413,0.2942155682335943,0.3083946313192737,0.3047744153381286,0.3119143588128479,0.3171951616825277,0.3112971932972661,0.3094766061448007,0.2073721404560002,0.1626760995689124,0.2198796598278014,0.269027114349203,0.2836981650600127,0.2956034729290342,0.2913513801850577,0.3001076104671661,0.2813104960427237,0.2959173711569952,0.2812687572774469,0.2960280013682063,0.3115965648211969,0.2961403716454485,0.2960743292497079,0.2843133497227168,0.298987216192262,0.2993537901820144,0.30305055734972,0.3080345076481989,0.2995628097052705,0.3065459986159913,0.2948990862074679,0.2995517114439185,0.3337518762633849,0.2945329865426799,0.2920089921614015,0.3025727746072425,0.299212268406929,0.2421265095108848,0.1493939543514093,0.0903016175136975,0.1006479133475484,0.1012960538726802,0.0999444906979154,0.1096247614308399,0.139247311827957,0.1289651760438322,0.1378236288592134,0.0980577285984401,0.0929673463145206,0.1189787797435333,0.0926650524202248,0.1076608410850712,0.1022680558756886,0.109322467536544,0.0996421968036195,0.117070483260875,0.0959327261992304,0.1009937599783844,0.1096578925170275,0.1108314457718795,0.1380513117243991,0.131112248487193,0.1141825682302119,0.1157777335399273,0.1147849462365591,0.1064238582521835,0.1166342862404506,0.1299915043575424,0.1064238582521835,0.1311827956989247,0.1166666666666666,0.1166389120156243,0.1058016324608556,0.1222764327432933,0.1244269703777019,0.1064238582521835,0.1138960131098198,0.1064222645191766,0.124967619573784,0.1129032258064516,0.1067204301075268,0.1138960131098198,0.1240812023533287,0.1061180521011796,0.1209383935514346,0.1620469407821756,0.2136383229506407,0.2698891489386817,0.2801736231147735,0.276887698126558,0.2841718279476314,0.2724681440495141,0.3239546273448689,0.327337829920365,0.3410779698341882,0.3362338780686332,0.2990436156790808,0.3058688835030355,0.3064239950462407,0.3034688032870666,0.2861346942751486,0.303160649347268,0.3057943688812923,0.3106712337645431,0.3019372833080052,0.2990507817122101,0.2725831263241714,0.2942299780728756,0.287243136561193,0.2727553625845477,0.2729901939576914,0.2539555523507728,0.2656918569690084,0.2543766133901092,0.2572807915772858,0.269805786733084,0.2614928225034746,0.2542239697470208,0.261539046753063,0.2577522247829318,0.269702933134153,0.2654232323584578,0.2804725040919472,0.2842989054858917,0.272524080813004,0.2812822732963502,0.3054342399754838,0.2307970833336858,0.2847134294164746,0.2736523489540942,0.2770652056632242,0.269241760104422,0.2859987652109523,0.2575015461526885,0.262691068657252,0.2659373044977985,0.2463721847871232,0.2513682556557405,0.2627449919264957,0.2617286090187263,0.2459104992222778,0.2455138540066063,0.2627651380591212,0.2627651380591212,0.224045238578298,0.245479889018903,0.2634862706774051,0.2332788706373417,0.245084986840441,0.2799351902291263,0.2879743198251672,0.2895106552178563,0.2755545574623489,0.2804529626201508,0.2815350728613396,0.2816098831125408,0.2771647867568121,0.2766520689716156,0.3028048033943348,0.2951425418741332,0.3054726569797994,0.3205324879093376,0.2882467471646442,0.2930902299584255,0.2888584890790079,0.2678832803558437,0.2797464214262897,0.2804040694164501,0.2829026959525589,0.2828205407212251,0.28048668174352,0.2669650229368685,0.2504256071624161,0.1531191412400129,0.2208831234959084,0.2235291603523898,0.2580137334061128,0.2748324387694441,0.2706823170650369,0.259157026881965,0.2420039761935123,0.2334414475798798,0.2374778938170047,0.2588258801174734,0.2385060293287968,0.2413943583149392,0.2492798893814792,0.2225225196200085,0.2351597628714418,0.2709281902043777,0.2412556966943303,0.2587826352205974,0.2663205484308671,0.2433072939602847,0.247510793160001,0.26274508605551,0.2303055596308422,0.2581730173420242,0.2559605346785221,0.2547747080341632,0.2595834504286494,0.2503047787141069,0.2625000717981365,0.2935974206215306,0.2719994623657367,0.2493646749576837,0.2714980217546533,0.2450859978057536,0.2680691508174333,0.2586190453205271,0.2622715554467186,0.2708635041613102,0.2719224553602278,0.2743909184105674,0.2686593685721536,0.2650298581067299,0.2726647062470975,0.2692928866531228,0.2543780629264158,0.2734409234984525,0.2728343476534796,0.2731219365743001,0.2870020563429939,0.2945329865426799,0.2800646318412533,0.2861346942751486,0.3047575933609274,0.28723270072118,0.2945325122177156,0.2828441847556725,0.2910481800529895,0.2945325122177156,0.2649985320505545,0.2950902379881844,0.3091993310751246,0.2698891489386817,0.2543307396107598,0.1583771180236463,0.1591518745713177,0.1433563893121834,0.1131407065986144,0.1118381011853215,0.1004372597113428,0.1276778926069315,0.1653777448332602,0.1267999385980799,0.1334171601242502,0.1112881422308675,0.1239164291794801,0.1277288638292637,0.1268615963771209,0.1499944260558721,0.1244384953082472,0.1184237515614895,0.144449423339029,0.1485997499952967,0.1116894892744369,0.1184418023389516,0.106044297080427,0.1139139836009138,0.0977189913613692,0.0944880466259642,0.2033500749355223,0.3038915318470587,0.3222947189759337,0.3208585566041732,0.302241442640384,0.3146170562773442,0.3258135537865885,0.3139342064848687,0.3384118913690679,0.3244711817011868,0.3416779960692263,0.3467996934286117,0.3338513887645102,0.3595035568905342,0.3602798651254714,0.3258749929541344,0.3336107489055713,0.329280781171734,0.3126501597908607,0.3331759173284457,0.3224115282317964,0.3264198448337827,0.3195445509716849,0.2397375569167261,0.1648360899499436,0.2352645198077625,0.2945329865426799,0.2945834030146647,0.3116926751953562,0.316530116597109,0.3003936180929782,0.2941584831706601,0.3018748200608857,0.2865004921346867,0.3161493118944678,0.3162711958329179,0.3136718759693349,0.3093557759056717,0.2468790541222185,0.1548228953805288,0.1353850937602943,0.1380895614969166,0.1209677419354838,0.125955924126928,0.1620469407821756,0.219860434560398,0.2614764858285839,0.2885437672041764,0.2995292123910502,0.2914754705391988,0.2914221783382217,0.3034474467922806,0.3036466109099002,0.2986167877473095,0.2986167877473095,0.2991818229479207,0.2800211878344875,0.2617799556698312,0.1647307813363767,0.1138368002058386,0.1046964342646565,0.1237758120965189,0.1074002264120632,0.1222128629793174,0.1582917013567699,0.1838122117609446,0.2308238636363636,0.2693590822959518,0.2849078583722394,0.2914638979528824,0.2838916162926901,0.2807837256086348,0.2948974056857489,0.2997382319143064,0.2914221783382217,0.3064702271362844,0.2910445060871173,0.2917882780030096,0.2616792703920286,0.21875,0.1693129124467499,0.1327781928498727,0.1438516253145312,0.1299915043575424,0.1298911943335913,0.1222128629793174,0.1232051341468029,0.1066628939235544,0.1160312278645187,0.1306880820650106,0.1539824246531433,0.2198070678824223,0.24994090943539,0.2461580905201653,0.2467035722991418,0.2731134203593358,0.2773454617492262,0.2661178140892781,0.269238701098642,0.2612997009593321,0.2773454617492262,0.2728343476534796,0.2692803994191922,0.2540871895999188,0.281977741937055,0.2773396064432107,0.2726647062470975,0.2662997101569027,0.2575690723103611,0.2493932877682959,0.234089607957418,0.249454278257411,0.2383111755966538,0.2539186484721695,0.2498775529639476,0.2653344556272771,0.269247844528762,0.291662806974329,0.2610714735602346,0.2839504569789813,0.3071429100708642,0.2954990739094396,0.3030609564596759,0.2954886747994836,0.2918241980730433,0.2805142237066079,0.2728337716973381,0.2581189993526748,0.2827030985590519,0.2865207045135124,0.2464152816525904,0.2779353130972525,0.2579247213400785,0.2584644603834114,0.2664140318173372,0.2733368556783498,0.2724149557877143,0.2584758627084441,0.2770890875136225,0.258119192384982,0.281614082091444,0.2737365685738426,0.2889214594939212,0.2654953952106303,0.2861501612911081,0.2783196719925513,0.2826334442089702,0.2536677977341537,0.2582376608488098,0.2847287101578121,0.285474998712251,0.2504253981694673,0.2654953952106303,0.2222248591284758,0.1772353096665567,0.1311492546885827,0.1916111573645821,0.1398936171457965,0.1547424051773342,0.1643138731795332,0.1946811053349885,0.2469395764321683,0.2380923525410926,0.2733040833050606,0.2811127713994909,0.2615632650612774,0.2728971066477185,0.242784446331799,0.2174657307850463,0.1697790917312815,0.1308798621831305,0.1248568168445408,0.106044297080427,0.1237063389077521,0.1196420938010875,0.1190419547358631,0.1197694411659085,0.0915627322724507,0.1139193886258457,0.0914588897154685,0.121826678204559,0.1310489446646317,0.1612483963177177],\"type\":\"scatter\"}],                        {\"legend\":{\"bgcolor\":\"#F5F6F9\",\"font\":{\"color\":\"#4D5663\"}},\"paper_bgcolor\":\"#F5F6F9\",\"plot_bgcolor\":\"#F5F6F9\",\"template\":{\"data\":{\"barpolar\":[{\"marker\":{\"line\":{\"color\":\"#E5ECF6\",\"width\":0.5},\"pattern\":{\"fillmode\":\"overlay\",\"size\":10,\"solidity\":0.2}},\"type\":\"barpolar\"}],\"bar\":[{\"error_x\":{\"color\":\"#2a3f5f\"},\"error_y\":{\"color\":\"#2a3f5f\"},\"marker\":{\"line\":{\"color\":\"#E5ECF6\",\"width\":0.5},\"pattern\":{\"fillmode\":\"overlay\",\"size\":10,\"solidity\":0.2}},\"type\":\"bar\"}],\"carpet\":[{\"aaxis\":{\"endlinecolor\":\"#2a3f5f\",\"gridcolor\":\"white\",\"linecolor\":\"white\",\"minorgridcolor\":\"white\",\"startlinecolor\":\"#2a3f5f\"},\"baxis\":{\"endlinecolor\":\"#2a3f5f\",\"gridcolor\":\"white\",\"linecolor\":\"white\",\"minorgridcolor\":\"white\",\"startlinecolor\":\"#2a3f5f\"},\"type\":\"carpet\"}],\"choropleth\":[{\"colorbar\":{\"outlinewidth\":0,\"ticks\":\"\"},\"type\":\"choropleth\"}],\"contourcarpet\":[{\"colorbar\":{\"outlinewidth\":0,\"ticks\":\"\"},\"type\":\"contourcarpet\"}],\"contour\":[{\"colorbar\":{\"outlinewidth\":0,\"ticks\":\"\"},\"colorscale\":[[0.0,\"#0d0887\"],[0.1111111111111111,\"#46039f\"],[0.2222222222222222,\"#7201a8\"],[0.3333333333333333,\"#9c179e\"],[0.4444444444444444,\"#bd3786\"],[0.5555555555555556,\"#d8576b\"],[0.6666666666666666,\"#ed7953\"],[0.7777777777777778,\"#fb9f3a\"],[0.8888888888888888,\"#fdca26\"],[1.0,\"#f0f921\"]],\"type\":\"contour\"}],\"heatmapgl\":[{\"colorbar\":{\"outlinewidth\":0,\"ticks\":\"\"},\"colorscale\":[[0.0,\"#0d0887\"],[0.1111111111111111,\"#46039f\"],[0.2222222222222222,\"#7201a8\"],[0.3333333333333333,\"#9c179e\"],[0.4444444444444444,\"#bd3786\"],[0.5555555555555556,\"#d8576b\"],[0.6666666666666666,\"#ed7953\"],[0.7777777777777778,\"#fb9f3a\"],[0.8888888888888888,\"#fdca26\"],[1.0,\"#f0f921\"]],\"type\":\"heatmapgl\"}],\"heatmap\":[{\"colorbar\":{\"outlinewidth\":0,\"ticks\":\"\"},\"colorscale\":[[0.0,\"#0d0887\"],[0.1111111111111111,\"#46039f\"],[0.2222222222222222,\"#7201a8\"],[0.3333333333333333,\"#9c179e\"],[0.4444444444444444,\"#bd3786\"],[0.5555555555555556,\"#d8576b\"],[0.6666666666666666,\"#ed7953\"],[0.7777777777777778,\"#fb9f3a\"],[0.8888888888888888,\"#fdca26\"],[1.0,\"#f0f921\"]],\"type\":\"heatmap\"}],\"histogram2dcontour\":[{\"colorbar\":{\"outlinewidth\":0,\"ticks\":\"\"},\"colorscale\":[[0.0,\"#0d0887\"],[0.1111111111111111,\"#46039f\"],[0.2222222222222222,\"#7201a8\"],[0.3333333333333333,\"#9c179e\"],[0.4444444444444444,\"#bd3786\"],[0.5555555555555556,\"#d8576b\"],[0.6666666666666666,\"#ed7953\"],[0.7777777777777778,\"#fb9f3a\"],[0.8888888888888888,\"#fdca26\"],[1.0,\"#f0f921\"]],\"type\":\"histogram2dcontour\"}],\"histogram2d\":[{\"colorbar\":{\"outlinewidth\":0,\"ticks\":\"\"},\"colorscale\":[[0.0,\"#0d0887\"],[0.1111111111111111,\"#46039f\"],[0.2222222222222222,\"#7201a8\"],[0.3333333333333333,\"#9c179e\"],[0.4444444444444444,\"#bd3786\"],[0.5555555555555556,\"#d8576b\"],[0.6666666666666666,\"#ed7953\"],[0.7777777777777778,\"#fb9f3a\"],[0.8888888888888888,\"#fdca26\"],[1.0,\"#f0f921\"]],\"type\":\"histogram2d\"}],\"histogram\":[{\"marker\":{\"pattern\":{\"fillmode\":\"overlay\",\"size\":10,\"solidity\":0.2}},\"type\":\"histogram\"}],\"mesh3d\":[{\"colorbar\":{\"outlinewidth\":0,\"ticks\":\"\"},\"type\":\"mesh3d\"}],\"parcoords\":[{\"line\":{\"colorbar\":{\"outlinewidth\":0,\"ticks\":\"\"}},\"type\":\"parcoords\"}],\"pie\":[{\"automargin\":true,\"type\":\"pie\"}],\"scatter3d\":[{\"line\":{\"colorbar\":{\"outlinewidth\":0,\"ticks\":\"\"}},\"marker\":{\"colorbar\":{\"outlinewidth\":0,\"ticks\":\"\"}},\"type\":\"scatter3d\"}],\"scattercarpet\":[{\"marker\":{\"colorbar\":{\"outlinewidth\":0,\"ticks\":\"\"}},\"type\":\"scattercarpet\"}],\"scattergeo\":[{\"marker\":{\"colorbar\":{\"outlinewidth\":0,\"ticks\":\"\"}},\"type\":\"scattergeo\"}],\"scattergl\":[{\"marker\":{\"colorbar\":{\"outlinewidth\":0,\"ticks\":\"\"}},\"type\":\"scattergl\"}],\"scattermapbox\":[{\"marker\":{\"colorbar\":{\"outlinewidth\":0,\"ticks\":\"\"}},\"type\":\"scattermapbox\"}],\"scatterpolargl\":[{\"marker\":{\"colorbar\":{\"outlinewidth\":0,\"ticks\":\"\"}},\"type\":\"scatterpolargl\"}],\"scatterpolar\":[{\"marker\":{\"colorbar\":{\"outlinewidth\":0,\"ticks\":\"\"}},\"type\":\"scatterpolar\"}],\"scatter\":[{\"fillpattern\":{\"fillmode\":\"overlay\",\"size\":10,\"solidity\":0.2},\"type\":\"scatter\"}],\"scatterternary\":[{\"marker\":{\"colorbar\":{\"outlinewidth\":0,\"ticks\":\"\"}},\"type\":\"scatterternary\"}],\"surface\":[{\"colorbar\":{\"outlinewidth\":0,\"ticks\":\"\"},\"colorscale\":[[0.0,\"#0d0887\"],[0.1111111111111111,\"#46039f\"],[0.2222222222222222,\"#7201a8\"],[0.3333333333333333,\"#9c179e\"],[0.4444444444444444,\"#bd3786\"],[0.5555555555555556,\"#d8576b\"],[0.6666666666666666,\"#ed7953\"],[0.7777777777777778,\"#fb9f3a\"],[0.8888888888888888,\"#fdca26\"],[1.0,\"#f0f921\"]],\"type\":\"surface\"}],\"table\":[{\"cells\":{\"fill\":{\"color\":\"#EBF0F8\"},\"line\":{\"color\":\"white\"}},\"header\":{\"fill\":{\"color\":\"#C8D4E3\"},\"line\":{\"color\":\"white\"}},\"type\":\"table\"}]},\"layout\":{\"annotationdefaults\":{\"arrowcolor\":\"#2a3f5f\",\"arrowhead\":0,\"arrowwidth\":1},\"autotypenumbers\":\"strict\",\"coloraxis\":{\"colorbar\":{\"outlinewidth\":0,\"ticks\":\"\"}},\"colorscale\":{\"diverging\":[[0,\"#8e0152\"],[0.1,\"#c51b7d\"],[0.2,\"#de77ae\"],[0.3,\"#f1b6da\"],[0.4,\"#fde0ef\"],[0.5,\"#f7f7f7\"],[0.6,\"#e6f5d0\"],[0.7,\"#b8e186\"],[0.8,\"#7fbc41\"],[0.9,\"#4d9221\"],[1,\"#276419\"]],\"sequential\":[[0.0,\"#0d0887\"],[0.1111111111111111,\"#46039f\"],[0.2222222222222222,\"#7201a8\"],[0.3333333333333333,\"#9c179e\"],[0.4444444444444444,\"#bd3786\"],[0.5555555555555556,\"#d8576b\"],[0.6666666666666666,\"#ed7953\"],[0.7777777777777778,\"#fb9f3a\"],[0.8888888888888888,\"#fdca26\"],[1.0,\"#f0f921\"]],\"sequentialminus\":[[0.0,\"#0d0887\"],[0.1111111111111111,\"#46039f\"],[0.2222222222222222,\"#7201a8\"],[0.3333333333333333,\"#9c179e\"],[0.4444444444444444,\"#bd3786\"],[0.5555555555555556,\"#d8576b\"],[0.6666666666666666,\"#ed7953\"],[0.7777777777777778,\"#fb9f3a\"],[0.8888888888888888,\"#fdca26\"],[1.0,\"#f0f921\"]]},\"colorway\":[\"#636efa\",\"#EF553B\",\"#00cc96\",\"#ab63fa\",\"#FFA15A\",\"#19d3f3\",\"#FF6692\",\"#B6E880\",\"#FF97FF\",\"#FECB52\"],\"font\":{\"color\":\"#2a3f5f\"},\"geo\":{\"bgcolor\":\"white\",\"lakecolor\":\"white\",\"landcolor\":\"#E5ECF6\",\"showlakes\":true,\"showland\":true,\"subunitcolor\":\"white\"},\"hoverlabel\":{\"align\":\"left\"},\"hovermode\":\"closest\",\"mapbox\":{\"style\":\"light\"},\"paper_bgcolor\":\"white\",\"plot_bgcolor\":\"#E5ECF6\",\"polar\":{\"angularaxis\":{\"gridcolor\":\"white\",\"linecolor\":\"white\",\"ticks\":\"\"},\"bgcolor\":\"#E5ECF6\",\"radialaxis\":{\"gridcolor\":\"white\",\"linecolor\":\"white\",\"ticks\":\"\"}},\"scene\":{\"xaxis\":{\"backgroundcolor\":\"#E5ECF6\",\"gridcolor\":\"white\",\"gridwidth\":2,\"linecolor\":\"white\",\"showbackground\":true,\"ticks\":\"\",\"zerolinecolor\":\"white\"},\"yaxis\":{\"backgroundcolor\":\"#E5ECF6\",\"gridcolor\":\"white\",\"gridwidth\":2,\"linecolor\":\"white\",\"showbackground\":true,\"ticks\":\"\",\"zerolinecolor\":\"white\"},\"zaxis\":{\"backgroundcolor\":\"#E5ECF6\",\"gridcolor\":\"white\",\"gridwidth\":2,\"linecolor\":\"white\",\"showbackground\":true,\"ticks\":\"\",\"zerolinecolor\":\"white\"}},\"shapedefaults\":{\"line\":{\"color\":\"#2a3f5f\"}},\"ternary\":{\"aaxis\":{\"gridcolor\":\"white\",\"linecolor\":\"white\",\"ticks\":\"\"},\"baxis\":{\"gridcolor\":\"white\",\"linecolor\":\"white\",\"ticks\":\"\"},\"bgcolor\":\"#E5ECF6\",\"caxis\":{\"gridcolor\":\"white\",\"linecolor\":\"white\",\"ticks\":\"\"}},\"title\":{\"x\":0.05},\"xaxis\":{\"automargin\":true,\"gridcolor\":\"white\",\"linecolor\":\"white\",\"ticks\":\"\",\"title\":{\"standoff\":15},\"zerolinecolor\":\"white\",\"zerolinewidth\":2},\"yaxis\":{\"automargin\":true,\"gridcolor\":\"white\",\"linecolor\":\"white\",\"ticks\":\"\",\"title\":{\"standoff\":15},\"zerolinecolor\":\"white\",\"zerolinewidth\":2}}},\"title\":{\"font\":{\"color\":\"#4D5663\"},\"text\":\"EYE_ASPECT_RATIO\"},\"xaxis\":{\"gridcolor\":\"#E1E5ED\",\"showgrid\":true,\"tickfont\":{\"color\":\"#4D5663\"},\"title\":{\"font\":{\"color\":\"#4D5663\"},\"text\":\"\"},\"zerolinecolor\":\"#E1E5ED\"},\"yaxis\":{\"gridcolor\":\"#E1E5ED\",\"showgrid\":true,\"tickfont\":{\"color\":\"#4D5663\"},\"title\":{\"font\":{\"color\":\"#4D5663\"},\"text\":\"\"},\"zerolinecolor\":\"#E1E5ED\"}},                        {\"showLink\": true, \"linkText\": \"Export to plot.ly\", \"plotlyServerURL\": \"https://plot.ly\", \"responsive\": true}                    ).then(function(){\n",
       "                            \n",
       "var gd = document.getElementById('c8ae1231-cf6f-45a0-bd5d-5a49a6a43fb2');\n",
       "var x = new MutationObserver(function (mutations, observer) {{\n",
       "        var display = window.getComputedStyle(gd).display;\n",
       "        if (!display || display === 'none') {{\n",
       "            console.log([gd, 'removed!']);\n",
       "            Plotly.purge(gd);\n",
       "            observer.disconnect();\n",
       "        }}\n",
       "}});\n",
       "\n",
       "// Listen for the removal of the full notebook cells\n",
       "var notebookContainer = gd.closest('#notebook-container');\n",
       "if (notebookContainer) {{\n",
       "    x.observe(notebookContainer, {childList: true});\n",
       "}}\n",
       "\n",
       "// Listen for the clearing of the current output cell\n",
       "var outputEl = gd.closest('.output');\n",
       "if (outputEl) {{\n",
       "    x.observe(outputEl, {childList: true});\n",
       "}}\n",
       "\n",
       "                        })                };                });            </script>        </div>"
      ]
     },
     "metadata": {},
     "output_type": "display_data"
    }
   ],
   "source": [
    "colname=['EAR','frames']\n",
    "d=pd.read_csv('ear1.csv',names=colname)\n",
    "d.to_csv('ear1.csv',index=False)\n",
    "d['frames']=d.index\n",
    "d.iplot(kind='scatter',x=\"frames\",y=\"EAR\",title='EYE_ASPECT_RATIO',\n",
    "       labels={\n",
    "           'frames':\"FRAMES\",\n",
    "           'EAR':\"Aspect Ratio\"\n",
    "       },)"
   ]
  },
  {
   "cell_type": "markdown",
   "id": "04058df4",
   "metadata": {},
   "source": [
    "# Plotting for Mouth Aspect Ratio"
   ]
  },
  {
   "cell_type": "code",
   "execution_count": 10,
   "id": "03506272",
   "metadata": {},
   "outputs": [
    {
     "data": {
      "application/vnd.plotly.v1+json": {
       "config": {
        "linkText": "Export to plot.ly",
        "plotlyServerURL": "https://plot.ly",
        "showLink": true
       },
       "data": [
        {
         "line": {
          "color": "rgba(255, 153, 51, 1.0)",
          "dash": "solid",
          "shape": "linear",
          "width": 1.3
         },
         "mode": "lines",
         "name": "MAR",
         "text": "",
         "type": "scatter",
         "x": [
          0,
          1,
          2,
          3,
          4,
          5,
          6,
          7,
          8,
          9,
          10,
          11,
          12,
          13,
          14,
          15,
          16,
          17,
          18,
          19,
          20,
          21,
          22,
          23,
          24,
          25,
          26,
          27,
          28,
          29,
          30,
          31,
          32,
          33,
          34,
          35,
          36,
          37,
          38,
          39,
          40,
          41,
          42,
          43,
          44,
          45,
          46,
          47,
          48,
          49,
          50,
          51,
          52,
          53,
          54,
          55,
          56,
          57,
          58,
          59,
          60,
          61,
          62,
          63,
          64,
          65,
          66,
          67,
          68,
          69,
          70,
          71,
          72,
          73,
          74,
          75,
          76,
          77,
          78,
          79,
          80,
          81,
          82,
          83,
          84,
          85,
          86,
          87,
          88,
          89,
          90,
          91,
          92,
          93,
          94,
          95,
          96,
          97,
          98,
          99,
          100,
          101,
          102,
          103,
          104,
          105,
          106,
          107,
          108,
          109,
          110,
          111,
          112,
          113,
          114,
          115,
          116,
          117,
          118,
          119,
          120,
          121,
          122,
          123,
          124,
          125,
          126,
          127,
          128,
          129,
          130,
          131,
          132,
          133,
          134,
          135,
          136,
          137,
          138,
          139,
          140,
          141,
          142,
          143,
          144,
          145,
          146,
          147,
          148,
          149,
          150,
          151,
          152,
          153,
          154,
          155,
          156,
          157,
          158,
          159,
          160,
          161,
          162,
          163,
          164,
          165,
          166,
          167,
          168,
          169,
          170,
          171,
          172,
          173,
          174,
          175,
          176,
          177,
          178,
          179,
          180,
          181,
          182,
          183,
          184,
          185,
          186,
          187,
          188,
          189,
          190,
          191,
          192,
          193,
          194,
          195,
          196,
          197,
          198,
          199,
          200,
          201,
          202,
          203,
          204,
          205,
          206,
          207,
          208,
          209,
          210,
          211,
          212,
          213,
          214,
          215,
          216,
          217,
          218,
          219,
          220,
          221,
          222,
          223,
          224,
          225,
          226,
          227,
          228,
          229,
          230,
          231,
          232,
          233,
          234,
          235,
          236,
          237,
          238,
          239,
          240,
          241,
          242,
          243,
          244,
          245,
          246,
          247,
          248,
          249,
          250,
          251,
          252,
          253,
          254,
          255,
          256,
          257,
          258,
          259,
          260,
          261,
          262,
          263,
          264,
          265,
          266,
          267,
          268,
          269,
          270,
          271,
          272,
          273,
          274,
          275,
          276,
          277,
          278,
          279,
          280,
          281,
          282,
          283,
          284,
          285,
          286,
          287,
          288,
          289,
          290,
          291,
          292,
          293,
          294,
          295,
          296,
          297,
          298,
          299,
          300,
          301,
          302,
          303,
          304,
          305,
          306,
          307,
          308,
          309,
          310,
          311,
          312,
          313,
          314,
          315,
          316,
          317,
          318,
          319,
          320,
          321,
          322,
          323,
          324,
          325,
          326,
          327,
          328,
          329,
          330,
          331,
          332,
          333,
          334,
          335,
          336,
          337,
          338,
          339,
          340,
          341,
          342,
          343,
          344,
          345,
          346,
          347,
          348,
          349,
          350,
          351,
          352,
          353,
          354,
          355,
          356,
          357,
          358,
          359,
          360,
          361,
          362,
          363,
          364,
          365,
          366,
          367,
          368,
          369,
          370,
          371,
          372,
          373,
          374,
          375,
          376,
          377,
          378,
          379,
          380,
          381,
          382,
          383,
          384,
          385,
          386,
          387,
          388,
          389,
          390,
          391,
          392,
          393,
          394,
          395,
          396,
          397,
          398,
          399,
          400,
          401,
          402,
          403,
          404,
          405,
          406,
          407,
          408,
          409,
          410,
          411,
          412,
          413,
          414,
          415,
          416,
          417,
          418,
          419,
          420,
          421,
          422,
          423,
          424,
          425,
          426,
          427,
          428,
          429,
          430,
          431,
          432,
          433,
          434,
          435,
          436,
          437,
          438,
          439,
          440,
          441,
          442,
          443,
          444,
          445,
          446,
          447,
          448,
          449,
          450,
          451,
          452,
          453,
          454,
          455,
          456,
          457,
          458,
          459,
          460,
          461,
          462,
          463,
          464,
          465,
          466,
          467,
          468,
          469,
          470,
          471,
          472,
          473,
          474,
          475,
          476,
          477,
          478,
          479,
          480,
          481,
          482,
          483,
          484,
          485,
          486,
          487,
          488,
          489,
          490,
          491,
          492,
          493,
          494,
          495,
          496,
          497,
          498,
          499,
          500,
          501,
          502,
          503,
          504
         ],
         "y": [
          0.3817371629195719,
          0.3381325874912544,
          0.3539546426925143,
          0.3402359591077602,
          0.4080715825429914,
          0.3650816961702999,
          0.3689758842878325,
          0.3650816961702999,
          0.3890992986677337,
          0.3519680890197501,
          0.427834008063175,
          0.3682820906412593,
          0.460995915039075,
          0.4172071037517909,
          0.2327619008176245,
          0.2539506445218388,
          0.2613842188520299,
          0.2504081624517596,
          0.2428766142785396,
          0.2538361330864231,
          0.2359001181154311,
          0.2685076374475391,
          0.2573411169808567,
          0.260722715645155,
          0.3236614417336124,
          0.3135754930672373,
          0.3974308787356589,
          0.2761975556095372,
          0.2656096024763522,
          0.2852491327661857,
          0.280852212189167,
          0.2877492554895089,
          0.2883441910160621,
          0.2927636458905586,
          0.2848283084221933,
          0.275453866227946,
          0.2892519586236926,
          0.2814745540451138,
          0.2618926903335551,
          0.2980113130586908,
          0.2751695900829325,
          0.273997843320637,
          0.2774637878036684,
          0.405521383445401,
          0.3889246507567725,
          0.3982843622292993,
          0.4538389494007351,
          0.4458403238586436,
          0.4262402829711291,
          0.3697724724695636,
          0.3034726512216547,
          0.3132965112566092,
          0.3357864580198202,
          0.2983908714181411,
          0.3338043658316973,
          0.3629952646872907,
          0.3201780885157997,
          0.302466264160026,
          0.2801045303549078,
          0.2654662389410649,
          0.289943246091159,
          0.2682906848768817,
          0.3155454464113176,
          0.3244184260837434,
          0.2922382306508121,
          0.2542003659767824,
          0.2615623943654064,
          0.2652623462598723,
          0.2508341664217435,
          0.2537974953041496,
          0.2754371997747687,
          0.3165672417051911,
          0.3460429376744503,
          0.3212022527423072,
          0.3384482023962579,
          0.3065849615720125,
          0.2768648931528297,
          0.2793334188455014,
          0.2983745564187651,
          0.2915360539117241,
          0.3157224881112302,
          0.314179599529213,
          0.3583244512731585,
          0.3284911415351064,
          0.3845741766279315,
          0.4402310422317956,
          0.3407013871335596,
          0.3588253419262359,
          0.373241951800037,
          0.3659354842225065,
          0.382452938666495,
          0.3677542952011596,
          0.3381987261631515,
          0.3596706111136989,
          0.3332950785178825,
          0.353971411343196,
          0.4046791442974735,
          0.3733911292626362,
          0.3238284497459494,
          0.3412457909999084,
          0.3032195787462181,
          0.3063000675216773,
          0.2878787878787879,
          0.2925099814649265,
          0.2925099814649265,
          0.2771365875178457,
          0.2686567164179104,
          0.2424242424242424,
          0.246589756274829,
          0.2275249725634311,
          0.2307419256480597,
          0.2208330616056831,
          0.2426619106194771,
          0.2165876203182558,
          0.2272466444440108,
          0.2426329052780657,
          0.2350737489340572,
          0.2241041173661134,
          0.2613720561126035,
          0.2729062247864089,
          0.2972426695872039,
          0.2504321524400941,
          0.273883927681612,
          0.2577983815600485,
          0.25,
          0.2537313432835821,
          0.2539506445218388,
          0.2390123312858416,
          0.2464741867725904,
          0.25,
          0.250216076220047,
          0.2357532285570794,
          0.2463939964760107,
          0.2577983815600485,
          0.2463648425983158,
          0.261401166994925,
          0.2428972657860817,
          0.250430391861172,
          0.2461538461538461,
          0.2619595601785782,
          0.2272466444440108,
          0.2540722028148184,
          0.2579913939064908,
          0.2504591356652106,
          0.2688638535620891,
          0.2539506445218388,
          0.2539506445218388,
          0.2540863041683184,
          0.2575757575757575,
          0.239038951805085,
          0.261413331089003,
          0.2580210055443394,
          0.2537313432835821,
          0.3163816538581996,
          0.3508693455384775,
          0.3636272071460932,
          0.3845871592559161,
          0.3845871592559161,
          0.3990127985427616,
          0.3999585896076861,
          0.3847236425485272,
          0.3990169031217409,
          0.4062018924949909,
          0.4205756124887369,
          0.3880303196387888,
          0.4183896732941904,
          0.4231563799410409,
          0.4176252285893875,
          0.4231954432396526,
          0.4317552308553937,
          0.4243289590495153,
          0.4231954432396526,
          0.4307027149241567,
          0.4768332369457522,
          0.4531730945880796,
          0.4464724229338932,
          0.461576354617645,
          0.4614482457111272,
          0.4917622040778217,
          0.4840111247008293,
          0.4527796805772706,
          0.4923840022516892,
          0.4839342460181787,
          0.5248029653378088,
          0.5244155318019631,
          0.5649592496280371,
          0.5323708687430021,
          0.3581482203274505,
          0.2403592009751912,
          0.5866263727205944,
          0.5946516129101701,
          0.6359121785614358,
          0.6436819474001171,
          0.6163468359358985,
          0.6722190621882266,
          0.629333286887812,
          0.6608958381425928,
          0.7143879944983693,
          0.7001227527266607,
          0.6667235439850198,
          0.6586699102816853,
          0.6522879800608523,
          0.6814062381945102,
          0.6456623073522962,
          0.6696854977335381,
          0.6457588671285474,
          0.6336431518556873,
          0.6508575713935079,
          0.6478101288123835,
          0.6247414833878203,
          0.6800694548066941,
          0.5654775745218328,
          0.5651566822043245,
          0.6002087090311469,
          0.5593197039450984,
          0.5461544050684259,
          0.5261823801174494,
          0.4736296012907222,
          0.4639482479931064,
          0.2915627063723674,
          0.283884682694808,
          0.2516503056886932,
          0.2633413695126808,
          0.3093459218927422,
          0.2532461085211833,
          0.2650032421017077,
          0.2828150190611264,
          0.2692381418620354,
          0.2880558560249719,
          0.2794144869744799,
          0.2918547479108476,
          0.2997781873105891,
          0.3101732777506751,
          0.3560563460968619,
          0.3920452711012387,
          0.4189438507250871,
          0.4146060601575047,
          0.4667304392509466,
          0.4992767013365591,
          0.5425615529396374,
          0.5158378279501088,
          0.5329630522421018,
          0.5504016984154794,
          0.5497549493255983,
          0.5419559349503624,
          0.540624618928143,
          0.5669605803891993,
          0.5668940960599197,
          0.5580526196397505,
          0.5497331198791615,
          0.5745641740210522,
          0.5819759622937903,
          0.567144640373282,
          0.600140967914741,
          0.6285045643114527,
          0.5947812889612959,
          0.5871738325513229,
          0.5911333383342676,
          0.6370805313593794,
          0.6091611238383312,
          0.6665260266420618,
          0.649615173625595,
          0.6367774497344124,
          0.6546716928248928,
          0.64160723368611,
          0.5546003820768399,
          0.6297657657721287,
          0.6390477064911633,
          0.6363636363636364,
          0.6760636910423865,
          0.525560379987641,
          0.4918737629260718,
          0.4843871974456263,
          0.4998612267447886,
          0.5002082321184185,
          0.2328548654585723,
          0.2399273038762082,
          0.2299072949487563,
          0.2260061929450849,
          0.2267819565180678,
          0.2259426157879514,
          0.2160387554279441,
          0.2260504251257037,
          0.2402846656661063,
          0.2365986458416715,
          0.2431544521312346,
          0.2466728944503853,
          0.2499822001264163,
          0.2603563983731875,
          0.2398261485174171,
          0.2500962834620274,
          0.2406288799666613,
          0.2466728944503853,
          0.2570380502721158,
          0.2606554540487873,
          0.2714576048924353,
          0.268238479888319,
          0.2747241073593675,
          0.2602344344378992,
          0.2751416311235224,
          0.2715056153485975,
          0.2534206029157072,
          0.2800625181617805,
          0.2501078386068155,
          0.2503826145087811,
          0.6078955953988712,
          0.2537976691547398,
          0.2501078386068155,
          0.235827951657377,
          0.2394128743302692,
          0.2325090835219141,
          0.2430422465068561,
          0.4522679381050789,
          0.4679436495542278,
          0.4016007625654197,
          0.3623077916878639,
          0.3951407484301827,
          0.3653563481549235,
          0.3565566844732454,
          0.3602148112914419,
          0.3377980670920587,
          0.3982294421291219,
          0.3906908288155937,
          0.3739793612804806,
          0.3659223258539549,
          0.3802737645338803,
          0.3647255910315095,
          0.3736611319222725,
          0.3739183294937461,
          0.3952545825575832,
          0.1833508629010071,
          0.1903731525955762,
          0.2155090026275896,
          0.2438247935852419,
          0.414646647269026,
          0.4360859320947423,
          0.3955435819193027,
          0.4140132230457363,
          0.2538868807070594,
          0.2679760224005696,
          0.2396435659572281,
          0.2503855052405548,
          0.2614721621688233,
          0.2539120616523936,
          0.2542759795918532,
          0.2575131013123024,
          0.2573411169808567,
          0.2682889009893354,
          0.2755528810901482,
          0.2573411169808567,
          0.261644771899662,
          0.2544714276528875,
          0.2501727333103773,
          0.2612443971213535,
          0.2395485447140171,
          0.2687637386891759,
          0.2792554434448727,
          0.2688237835892854,
          0.2689962112857678,
          0.250969627989333,
          0.2803466782543381,
          0.2764919959056173,
          0.2586568963300202,
          0.2694533493167452,
          0.2688638535620891,
          0.2428631350435764,
          0.247143602750923,
          0.2769027848846477,
          0.261401166994925,
          0.2648813328983905,
          0.2620397906325427,
          0.2465638635088338,
          0.2581674285020208,
          0.2575570321861761,
          0.2764919959056173,
          0.2770790617445246,
          0.2762848818292203,
          0.2837783402271675,
          0.2648813328983905,
          0.2656957321664969,
          0.2911987939243902,
          0.2612718315553615,
          0.2465638635088338,
          0.2575690173965176,
          0.250216076220047,
          0.2501890243710875,
          0.2539223633652812,
          0.2538094794261317,
          0.2755528810901482,
          0.2504050772302804,
          0.2610706983863764,
          0.2694533493167452,
          0.2654916632218771,
          0.2762848818292203,
          0.2504050772302804,
          0.2654055996840745,
          0.2580558367836014,
          0.2648813328983905,
          0.2690410256757494,
          0.2539223633652812,
          0.2688339115993522,
          0.2797682438559999,
          0.2656957321664969,
          0.2504050772302804,
          0.2575131013123024,
          0.2695704214973515,
          0.2546120783030721,
          0.2537976691547398,
          0.2577452395366453,
          0.2508349574901636,
          0.2583555698601319,
          0.2690410256757494,
          0.2583835047220679,
          0.276295767086101,
          0.2694533493167452,
          0.2811794869784503,
          0.2770790617445246,
          0.2768719476681275,
          0.268848384244376,
          0.2650854018430103,
          0.2649099733626466,
          0.2755239470971992,
          0.2900056640183919,
          0.34812788839027,
          0.3732024217501256,
          0.3912632595340825,
          0.3312091500881464,
          0.4132523939964639,
          0.4140050247835646,
          0.5081760481194055,
          0.5646828597270553,
          0.5545252877930197,
          0.5735452947194154,
          0.508214464050757,
          0.5970082179794314,
          0.5308162836832374,
          0.6417373147442528,
          0.561887467047474,
          0.5956877100202269,
          0.6390969732591697,
          0.6474006176802843,
          0.5849507420856269,
          0.6362880127531141,
          0.6274034050655791,
          0.6192441238065465,
          0.6458126894118678,
          0.5950854551170202,
          0.5248199500372503,
          0.5955016952881415,
          0.5158929716906008,
          0.5005822606544199,
          0.2577233502872937,
          0.2432846592867902,
          0.2474272128488895,
          0.2219412195284835,
          0.2291001261684455,
          0.238943084626302,
          0.2324031973263247,
          0.2326220213300182,
          0.2293097435696399,
          0.2470246094943996,
          0.2435072549652958,
          0.231947096824579,
          0.22947317770992,
          0.22947317770992,
          0.22947317770992,
          0.2399795319660195,
          0.2362094648427286,
          0.2550345172399872,
          0.2436333384974839,
          0.2329147504995198,
          0.2463782126429324,
          0.2434038822667942,
          0.2466990894055675,
          0.2576800982863018,
          0.3793702844829973,
          0.3791529425662853,
          0.3415571759289743,
          0.328336531699993,
          0.3391736176548364,
          0.299218548824182,
          0.3442906962246562,
          0.3409246832175862,
          0.3314932562847764,
          0.3578317028168995,
          0.3113990828997022,
          0.3161581247876308,
          0.2770189037856186,
          0.2925738069102399,
          0.2848634348646717,
          0.2769865427163754,
          0.2734943273976711,
          0.2473070190445429,
          0.2583555698601319,
          0.2473354627333592,
          0.2621232162650678,
          0.2503239042602194,
          0.2396284515366226,
          0.2545705240057421,
          0.2363370284232549,
          0.2356513252765212,
          0.2584197595427575,
          0.2466110905669438,
          0.2357277403437439,
          0.2356513252765212
         ]
        }
       ],
       "layout": {
        "legend": {
         "bgcolor": "#F5F6F9",
         "font": {
          "color": "#4D5663"
         }
        },
        "paper_bgcolor": "#F5F6F9",
        "plot_bgcolor": "#F5F6F9",
        "template": {
         "data": {
          "bar": [
           {
            "error_x": {
             "color": "#2a3f5f"
            },
            "error_y": {
             "color": "#2a3f5f"
            },
            "marker": {
             "line": {
              "color": "#E5ECF6",
              "width": 0.5
             },
             "pattern": {
              "fillmode": "overlay",
              "size": 10,
              "solidity": 0.2
             }
            },
            "type": "bar"
           }
          ],
          "barpolar": [
           {
            "marker": {
             "line": {
              "color": "#E5ECF6",
              "width": 0.5
             },
             "pattern": {
              "fillmode": "overlay",
              "size": 10,
              "solidity": 0.2
             }
            },
            "type": "barpolar"
           }
          ],
          "carpet": [
           {
            "aaxis": {
             "endlinecolor": "#2a3f5f",
             "gridcolor": "white",
             "linecolor": "white",
             "minorgridcolor": "white",
             "startlinecolor": "#2a3f5f"
            },
            "baxis": {
             "endlinecolor": "#2a3f5f",
             "gridcolor": "white",
             "linecolor": "white",
             "minorgridcolor": "white",
             "startlinecolor": "#2a3f5f"
            },
            "type": "carpet"
           }
          ],
          "choropleth": [
           {
            "colorbar": {
             "outlinewidth": 0,
             "ticks": ""
            },
            "type": "choropleth"
           }
          ],
          "contour": [
           {
            "colorbar": {
             "outlinewidth": 0,
             "ticks": ""
            },
            "colorscale": [
             [
              0,
              "#0d0887"
             ],
             [
              0.1111111111111111,
              "#46039f"
             ],
             [
              0.2222222222222222,
              "#7201a8"
             ],
             [
              0.3333333333333333,
              "#9c179e"
             ],
             [
              0.4444444444444444,
              "#bd3786"
             ],
             [
              0.5555555555555556,
              "#d8576b"
             ],
             [
              0.6666666666666666,
              "#ed7953"
             ],
             [
              0.7777777777777778,
              "#fb9f3a"
             ],
             [
              0.8888888888888888,
              "#fdca26"
             ],
             [
              1,
              "#f0f921"
             ]
            ],
            "type": "contour"
           }
          ],
          "contourcarpet": [
           {
            "colorbar": {
             "outlinewidth": 0,
             "ticks": ""
            },
            "type": "contourcarpet"
           }
          ],
          "heatmap": [
           {
            "colorbar": {
             "outlinewidth": 0,
             "ticks": ""
            },
            "colorscale": [
             [
              0,
              "#0d0887"
             ],
             [
              0.1111111111111111,
              "#46039f"
             ],
             [
              0.2222222222222222,
              "#7201a8"
             ],
             [
              0.3333333333333333,
              "#9c179e"
             ],
             [
              0.4444444444444444,
              "#bd3786"
             ],
             [
              0.5555555555555556,
              "#d8576b"
             ],
             [
              0.6666666666666666,
              "#ed7953"
             ],
             [
              0.7777777777777778,
              "#fb9f3a"
             ],
             [
              0.8888888888888888,
              "#fdca26"
             ],
             [
              1,
              "#f0f921"
             ]
            ],
            "type": "heatmap"
           }
          ],
          "heatmapgl": [
           {
            "colorbar": {
             "outlinewidth": 0,
             "ticks": ""
            },
            "colorscale": [
             [
              0,
              "#0d0887"
             ],
             [
              0.1111111111111111,
              "#46039f"
             ],
             [
              0.2222222222222222,
              "#7201a8"
             ],
             [
              0.3333333333333333,
              "#9c179e"
             ],
             [
              0.4444444444444444,
              "#bd3786"
             ],
             [
              0.5555555555555556,
              "#d8576b"
             ],
             [
              0.6666666666666666,
              "#ed7953"
             ],
             [
              0.7777777777777778,
              "#fb9f3a"
             ],
             [
              0.8888888888888888,
              "#fdca26"
             ],
             [
              1,
              "#f0f921"
             ]
            ],
            "type": "heatmapgl"
           }
          ],
          "histogram": [
           {
            "marker": {
             "pattern": {
              "fillmode": "overlay",
              "size": 10,
              "solidity": 0.2
             }
            },
            "type": "histogram"
           }
          ],
          "histogram2d": [
           {
            "colorbar": {
             "outlinewidth": 0,
             "ticks": ""
            },
            "colorscale": [
             [
              0,
              "#0d0887"
             ],
             [
              0.1111111111111111,
              "#46039f"
             ],
             [
              0.2222222222222222,
              "#7201a8"
             ],
             [
              0.3333333333333333,
              "#9c179e"
             ],
             [
              0.4444444444444444,
              "#bd3786"
             ],
             [
              0.5555555555555556,
              "#d8576b"
             ],
             [
              0.6666666666666666,
              "#ed7953"
             ],
             [
              0.7777777777777778,
              "#fb9f3a"
             ],
             [
              0.8888888888888888,
              "#fdca26"
             ],
             [
              1,
              "#f0f921"
             ]
            ],
            "type": "histogram2d"
           }
          ],
          "histogram2dcontour": [
           {
            "colorbar": {
             "outlinewidth": 0,
             "ticks": ""
            },
            "colorscale": [
             [
              0,
              "#0d0887"
             ],
             [
              0.1111111111111111,
              "#46039f"
             ],
             [
              0.2222222222222222,
              "#7201a8"
             ],
             [
              0.3333333333333333,
              "#9c179e"
             ],
             [
              0.4444444444444444,
              "#bd3786"
             ],
             [
              0.5555555555555556,
              "#d8576b"
             ],
             [
              0.6666666666666666,
              "#ed7953"
             ],
             [
              0.7777777777777778,
              "#fb9f3a"
             ],
             [
              0.8888888888888888,
              "#fdca26"
             ],
             [
              1,
              "#f0f921"
             ]
            ],
            "type": "histogram2dcontour"
           }
          ],
          "mesh3d": [
           {
            "colorbar": {
             "outlinewidth": 0,
             "ticks": ""
            },
            "type": "mesh3d"
           }
          ],
          "parcoords": [
           {
            "line": {
             "colorbar": {
              "outlinewidth": 0,
              "ticks": ""
             }
            },
            "type": "parcoords"
           }
          ],
          "pie": [
           {
            "automargin": true,
            "type": "pie"
           }
          ],
          "scatter": [
           {
            "fillpattern": {
             "fillmode": "overlay",
             "size": 10,
             "solidity": 0.2
            },
            "type": "scatter"
           }
          ],
          "scatter3d": [
           {
            "line": {
             "colorbar": {
              "outlinewidth": 0,
              "ticks": ""
             }
            },
            "marker": {
             "colorbar": {
              "outlinewidth": 0,
              "ticks": ""
             }
            },
            "type": "scatter3d"
           }
          ],
          "scattercarpet": [
           {
            "marker": {
             "colorbar": {
              "outlinewidth": 0,
              "ticks": ""
             }
            },
            "type": "scattercarpet"
           }
          ],
          "scattergeo": [
           {
            "marker": {
             "colorbar": {
              "outlinewidth": 0,
              "ticks": ""
             }
            },
            "type": "scattergeo"
           }
          ],
          "scattergl": [
           {
            "marker": {
             "colorbar": {
              "outlinewidth": 0,
              "ticks": ""
             }
            },
            "type": "scattergl"
           }
          ],
          "scattermapbox": [
           {
            "marker": {
             "colorbar": {
              "outlinewidth": 0,
              "ticks": ""
             }
            },
            "type": "scattermapbox"
           }
          ],
          "scatterpolar": [
           {
            "marker": {
             "colorbar": {
              "outlinewidth": 0,
              "ticks": ""
             }
            },
            "type": "scatterpolar"
           }
          ],
          "scatterpolargl": [
           {
            "marker": {
             "colorbar": {
              "outlinewidth": 0,
              "ticks": ""
             }
            },
            "type": "scatterpolargl"
           }
          ],
          "scatterternary": [
           {
            "marker": {
             "colorbar": {
              "outlinewidth": 0,
              "ticks": ""
             }
            },
            "type": "scatterternary"
           }
          ],
          "surface": [
           {
            "colorbar": {
             "outlinewidth": 0,
             "ticks": ""
            },
            "colorscale": [
             [
              0,
              "#0d0887"
             ],
             [
              0.1111111111111111,
              "#46039f"
             ],
             [
              0.2222222222222222,
              "#7201a8"
             ],
             [
              0.3333333333333333,
              "#9c179e"
             ],
             [
              0.4444444444444444,
              "#bd3786"
             ],
             [
              0.5555555555555556,
              "#d8576b"
             ],
             [
              0.6666666666666666,
              "#ed7953"
             ],
             [
              0.7777777777777778,
              "#fb9f3a"
             ],
             [
              0.8888888888888888,
              "#fdca26"
             ],
             [
              1,
              "#f0f921"
             ]
            ],
            "type": "surface"
           }
          ],
          "table": [
           {
            "cells": {
             "fill": {
              "color": "#EBF0F8"
             },
             "line": {
              "color": "white"
             }
            },
            "header": {
             "fill": {
              "color": "#C8D4E3"
             },
             "line": {
              "color": "white"
             }
            },
            "type": "table"
           }
          ]
         },
         "layout": {
          "annotationdefaults": {
           "arrowcolor": "#2a3f5f",
           "arrowhead": 0,
           "arrowwidth": 1
          },
          "autotypenumbers": "strict",
          "coloraxis": {
           "colorbar": {
            "outlinewidth": 0,
            "ticks": ""
           }
          },
          "colorscale": {
           "diverging": [
            [
             0,
             "#8e0152"
            ],
            [
             0.1,
             "#c51b7d"
            ],
            [
             0.2,
             "#de77ae"
            ],
            [
             0.3,
             "#f1b6da"
            ],
            [
             0.4,
             "#fde0ef"
            ],
            [
             0.5,
             "#f7f7f7"
            ],
            [
             0.6,
             "#e6f5d0"
            ],
            [
             0.7,
             "#b8e186"
            ],
            [
             0.8,
             "#7fbc41"
            ],
            [
             0.9,
             "#4d9221"
            ],
            [
             1,
             "#276419"
            ]
           ],
           "sequential": [
            [
             0,
             "#0d0887"
            ],
            [
             0.1111111111111111,
             "#46039f"
            ],
            [
             0.2222222222222222,
             "#7201a8"
            ],
            [
             0.3333333333333333,
             "#9c179e"
            ],
            [
             0.4444444444444444,
             "#bd3786"
            ],
            [
             0.5555555555555556,
             "#d8576b"
            ],
            [
             0.6666666666666666,
             "#ed7953"
            ],
            [
             0.7777777777777778,
             "#fb9f3a"
            ],
            [
             0.8888888888888888,
             "#fdca26"
            ],
            [
             1,
             "#f0f921"
            ]
           ],
           "sequentialminus": [
            [
             0,
             "#0d0887"
            ],
            [
             0.1111111111111111,
             "#46039f"
            ],
            [
             0.2222222222222222,
             "#7201a8"
            ],
            [
             0.3333333333333333,
             "#9c179e"
            ],
            [
             0.4444444444444444,
             "#bd3786"
            ],
            [
             0.5555555555555556,
             "#d8576b"
            ],
            [
             0.6666666666666666,
             "#ed7953"
            ],
            [
             0.7777777777777778,
             "#fb9f3a"
            ],
            [
             0.8888888888888888,
             "#fdca26"
            ],
            [
             1,
             "#f0f921"
            ]
           ]
          },
          "colorway": [
           "#636efa",
           "#EF553B",
           "#00cc96",
           "#ab63fa",
           "#FFA15A",
           "#19d3f3",
           "#FF6692",
           "#B6E880",
           "#FF97FF",
           "#FECB52"
          ],
          "font": {
           "color": "#2a3f5f"
          },
          "geo": {
           "bgcolor": "white",
           "lakecolor": "white",
           "landcolor": "#E5ECF6",
           "showlakes": true,
           "showland": true,
           "subunitcolor": "white"
          },
          "hoverlabel": {
           "align": "left"
          },
          "hovermode": "closest",
          "mapbox": {
           "style": "light"
          },
          "paper_bgcolor": "white",
          "plot_bgcolor": "#E5ECF6",
          "polar": {
           "angularaxis": {
            "gridcolor": "white",
            "linecolor": "white",
            "ticks": ""
           },
           "bgcolor": "#E5ECF6",
           "radialaxis": {
            "gridcolor": "white",
            "linecolor": "white",
            "ticks": ""
           }
          },
          "scene": {
           "xaxis": {
            "backgroundcolor": "#E5ECF6",
            "gridcolor": "white",
            "gridwidth": 2,
            "linecolor": "white",
            "showbackground": true,
            "ticks": "",
            "zerolinecolor": "white"
           },
           "yaxis": {
            "backgroundcolor": "#E5ECF6",
            "gridcolor": "white",
            "gridwidth": 2,
            "linecolor": "white",
            "showbackground": true,
            "ticks": "",
            "zerolinecolor": "white"
           },
           "zaxis": {
            "backgroundcolor": "#E5ECF6",
            "gridcolor": "white",
            "gridwidth": 2,
            "linecolor": "white",
            "showbackground": true,
            "ticks": "",
            "zerolinecolor": "white"
           }
          },
          "shapedefaults": {
           "line": {
            "color": "#2a3f5f"
           }
          },
          "ternary": {
           "aaxis": {
            "gridcolor": "white",
            "linecolor": "white",
            "ticks": ""
           },
           "baxis": {
            "gridcolor": "white",
            "linecolor": "white",
            "ticks": ""
           },
           "bgcolor": "#E5ECF6",
           "caxis": {
            "gridcolor": "white",
            "linecolor": "white",
            "ticks": ""
           }
          },
          "title": {
           "x": 0.05
          },
          "xaxis": {
           "automargin": true,
           "gridcolor": "white",
           "linecolor": "white",
           "ticks": "",
           "title": {
            "standoff": 15
           },
           "zerolinecolor": "white",
           "zerolinewidth": 2
          },
          "yaxis": {
           "automargin": true,
           "gridcolor": "white",
           "linecolor": "white",
           "ticks": "",
           "title": {
            "standoff": 15
           },
           "zerolinecolor": "white",
           "zerolinewidth": 2
          }
         }
        },
        "title": {
         "font": {
          "color": "#4D5663"
         },
         "text": "MOUTH_ASPECT_RATIO"
        },
        "xaxis": {
         "gridcolor": "#E1E5ED",
         "showgrid": true,
         "tickfont": {
          "color": "#4D5663"
         },
         "title": {
          "font": {
           "color": "#4D5663"
          },
          "text": ""
         },
         "zerolinecolor": "#E1E5ED"
        },
        "yaxis": {
         "gridcolor": "#E1E5ED",
         "showgrid": true,
         "tickfont": {
          "color": "#4D5663"
         },
         "title": {
          "font": {
           "color": "#4D5663"
          },
          "text": ""
         },
         "zerolinecolor": "#E1E5ED"
        }
       }
      },
      "text/html": [
       "<div>                            <div id=\"b2f30e03-fa0b-4f2e-9d26-d88f790d4cb7\" class=\"plotly-graph-div\" style=\"height:525px; width:100%;\"></div>            <script type=\"text/javascript\">                require([\"plotly\"], function(Plotly) {                    window.PLOTLYENV=window.PLOTLYENV || {};\n",
       "                    window.PLOTLYENV.BASE_URL='https://plot.ly';                                    if (document.getElementById(\"b2f30e03-fa0b-4f2e-9d26-d88f790d4cb7\")) {                    Plotly.newPlot(                        \"b2f30e03-fa0b-4f2e-9d26-d88f790d4cb7\",                        [{\"line\":{\"color\":\"rgba(255, 153, 51, 1.0)\",\"dash\":\"solid\",\"shape\":\"linear\",\"width\":1.3},\"mode\":\"lines\",\"name\":\"MAR\",\"text\":\"\",\"x\":[0,1,2,3,4,5,6,7,8,9,10,11,12,13,14,15,16,17,18,19,20,21,22,23,24,25,26,27,28,29,30,31,32,33,34,35,36,37,38,39,40,41,42,43,44,45,46,47,48,49,50,51,52,53,54,55,56,57,58,59,60,61,62,63,64,65,66,67,68,69,70,71,72,73,74,75,76,77,78,79,80,81,82,83,84,85,86,87,88,89,90,91,92,93,94,95,96,97,98,99,100,101,102,103,104,105,106,107,108,109,110,111,112,113,114,115,116,117,118,119,120,121,122,123,124,125,126,127,128,129,130,131,132,133,134,135,136,137,138,139,140,141,142,143,144,145,146,147,148,149,150,151,152,153,154,155,156,157,158,159,160,161,162,163,164,165,166,167,168,169,170,171,172,173,174,175,176,177,178,179,180,181,182,183,184,185,186,187,188,189,190,191,192,193,194,195,196,197,198,199,200,201,202,203,204,205,206,207,208,209,210,211,212,213,214,215,216,217,218,219,220,221,222,223,224,225,226,227,228,229,230,231,232,233,234,235,236,237,238,239,240,241,242,243,244,245,246,247,248,249,250,251,252,253,254,255,256,257,258,259,260,261,262,263,264,265,266,267,268,269,270,271,272,273,274,275,276,277,278,279,280,281,282,283,284,285,286,287,288,289,290,291,292,293,294,295,296,297,298,299,300,301,302,303,304,305,306,307,308,309,310,311,312,313,314,315,316,317,318,319,320,321,322,323,324,325,326,327,328,329,330,331,332,333,334,335,336,337,338,339,340,341,342,343,344,345,346,347,348,349,350,351,352,353,354,355,356,357,358,359,360,361,362,363,364,365,366,367,368,369,370,371,372,373,374,375,376,377,378,379,380,381,382,383,384,385,386,387,388,389,390,391,392,393,394,395,396,397,398,399,400,401,402,403,404,405,406,407,408,409,410,411,412,413,414,415,416,417,418,419,420,421,422,423,424,425,426,427,428,429,430,431,432,433,434,435,436,437,438,439,440,441,442,443,444,445,446,447,448,449,450,451,452,453,454,455,456,457,458,459,460,461,462,463,464,465,466,467,468,469,470,471,472,473,474,475,476,477,478,479,480,481,482,483,484,485,486,487,488,489,490,491,492,493,494,495,496,497,498,499,500,501,502,503,504],\"y\":[0.3817371629195719,0.3381325874912544,0.3539546426925143,0.3402359591077602,0.4080715825429914,0.3650816961702999,0.3689758842878325,0.3650816961702999,0.3890992986677337,0.3519680890197501,0.427834008063175,0.3682820906412593,0.460995915039075,0.4172071037517909,0.2327619008176245,0.2539506445218388,0.2613842188520299,0.2504081624517596,0.2428766142785396,0.2538361330864231,0.2359001181154311,0.2685076374475391,0.2573411169808567,0.260722715645155,0.3236614417336124,0.3135754930672373,0.3974308787356589,0.2761975556095372,0.2656096024763522,0.2852491327661857,0.280852212189167,0.2877492554895089,0.2883441910160621,0.2927636458905586,0.2848283084221933,0.275453866227946,0.2892519586236926,0.2814745540451138,0.2618926903335551,0.2980113130586908,0.2751695900829325,0.273997843320637,0.2774637878036684,0.405521383445401,0.3889246507567725,0.3982843622292993,0.4538389494007351,0.4458403238586436,0.4262402829711291,0.3697724724695636,0.3034726512216547,0.3132965112566092,0.3357864580198202,0.2983908714181411,0.3338043658316973,0.3629952646872907,0.3201780885157997,0.302466264160026,0.2801045303549078,0.2654662389410649,0.289943246091159,0.2682906848768817,0.3155454464113176,0.3244184260837434,0.2922382306508121,0.2542003659767824,0.2615623943654064,0.2652623462598723,0.2508341664217435,0.2537974953041496,0.2754371997747687,0.3165672417051911,0.3460429376744503,0.3212022527423072,0.3384482023962579,0.3065849615720125,0.2768648931528297,0.2793334188455014,0.2983745564187651,0.2915360539117241,0.3157224881112302,0.314179599529213,0.3583244512731585,0.3284911415351064,0.3845741766279315,0.4402310422317956,0.3407013871335596,0.3588253419262359,0.373241951800037,0.3659354842225065,0.382452938666495,0.3677542952011596,0.3381987261631515,0.3596706111136989,0.3332950785178825,0.353971411343196,0.4046791442974735,0.3733911292626362,0.3238284497459494,0.3412457909999084,0.3032195787462181,0.3063000675216773,0.2878787878787879,0.2925099814649265,0.2925099814649265,0.2771365875178457,0.2686567164179104,0.2424242424242424,0.246589756274829,0.2275249725634311,0.2307419256480597,0.2208330616056831,0.2426619106194771,0.2165876203182558,0.2272466444440108,0.2426329052780657,0.2350737489340572,0.2241041173661134,0.2613720561126035,0.2729062247864089,0.2972426695872039,0.2504321524400941,0.273883927681612,0.2577983815600485,0.25,0.2537313432835821,0.2539506445218388,0.2390123312858416,0.2464741867725904,0.25,0.250216076220047,0.2357532285570794,0.2463939964760107,0.2577983815600485,0.2463648425983158,0.261401166994925,0.2428972657860817,0.250430391861172,0.2461538461538461,0.2619595601785782,0.2272466444440108,0.2540722028148184,0.2579913939064908,0.2504591356652106,0.2688638535620891,0.2539506445218388,0.2539506445218388,0.2540863041683184,0.2575757575757575,0.239038951805085,0.261413331089003,0.2580210055443394,0.2537313432835821,0.3163816538581996,0.3508693455384775,0.3636272071460932,0.3845871592559161,0.3845871592559161,0.3990127985427616,0.3999585896076861,0.3847236425485272,0.3990169031217409,0.4062018924949909,0.4205756124887369,0.3880303196387888,0.4183896732941904,0.4231563799410409,0.4176252285893875,0.4231954432396526,0.4317552308553937,0.4243289590495153,0.4231954432396526,0.4307027149241567,0.4768332369457522,0.4531730945880796,0.4464724229338932,0.461576354617645,0.4614482457111272,0.4917622040778217,0.4840111247008293,0.4527796805772706,0.4923840022516892,0.4839342460181787,0.5248029653378088,0.5244155318019631,0.5649592496280371,0.5323708687430021,0.3581482203274505,0.2403592009751912,0.5866263727205944,0.5946516129101701,0.6359121785614358,0.6436819474001171,0.6163468359358985,0.6722190621882266,0.629333286887812,0.6608958381425928,0.7143879944983693,0.7001227527266607,0.6667235439850198,0.6586699102816853,0.6522879800608523,0.6814062381945102,0.6456623073522962,0.6696854977335381,0.6457588671285474,0.6336431518556873,0.6508575713935079,0.6478101288123835,0.6247414833878203,0.6800694548066941,0.5654775745218328,0.5651566822043245,0.6002087090311469,0.5593197039450984,0.5461544050684259,0.5261823801174494,0.4736296012907222,0.4639482479931064,0.2915627063723674,0.283884682694808,0.2516503056886932,0.2633413695126808,0.3093459218927422,0.2532461085211833,0.2650032421017077,0.2828150190611264,0.2692381418620354,0.2880558560249719,0.2794144869744799,0.2918547479108476,0.2997781873105891,0.3101732777506751,0.3560563460968619,0.3920452711012387,0.4189438507250871,0.4146060601575047,0.4667304392509466,0.4992767013365591,0.5425615529396374,0.5158378279501088,0.5329630522421018,0.5504016984154794,0.5497549493255983,0.5419559349503624,0.540624618928143,0.5669605803891993,0.5668940960599197,0.5580526196397505,0.5497331198791615,0.5745641740210522,0.5819759622937903,0.567144640373282,0.600140967914741,0.6285045643114527,0.5947812889612959,0.5871738325513229,0.5911333383342676,0.6370805313593794,0.6091611238383312,0.6665260266420618,0.649615173625595,0.6367774497344124,0.6546716928248928,0.64160723368611,0.5546003820768399,0.6297657657721287,0.6390477064911633,0.6363636363636364,0.6760636910423865,0.525560379987641,0.4918737629260718,0.4843871974456263,0.4998612267447886,0.5002082321184185,0.2328548654585723,0.2399273038762082,0.2299072949487563,0.2260061929450849,0.2267819565180678,0.2259426157879514,0.2160387554279441,0.2260504251257037,0.2402846656661063,0.2365986458416715,0.2431544521312346,0.2466728944503853,0.2499822001264163,0.2603563983731875,0.2398261485174171,0.2500962834620274,0.2406288799666613,0.2466728944503853,0.2570380502721158,0.2606554540487873,0.2714576048924353,0.268238479888319,0.2747241073593675,0.2602344344378992,0.2751416311235224,0.2715056153485975,0.2534206029157072,0.2800625181617805,0.2501078386068155,0.2503826145087811,0.6078955953988712,0.2537976691547398,0.2501078386068155,0.235827951657377,0.2394128743302692,0.2325090835219141,0.2430422465068561,0.4522679381050789,0.4679436495542278,0.4016007625654197,0.3623077916878639,0.3951407484301827,0.3653563481549235,0.3565566844732454,0.3602148112914419,0.3377980670920587,0.3982294421291219,0.3906908288155937,0.3739793612804806,0.3659223258539549,0.3802737645338803,0.3647255910315095,0.3736611319222725,0.3739183294937461,0.3952545825575832,0.1833508629010071,0.1903731525955762,0.2155090026275896,0.2438247935852419,0.414646647269026,0.4360859320947423,0.3955435819193027,0.4140132230457363,0.2538868807070594,0.2679760224005696,0.2396435659572281,0.2503855052405548,0.2614721621688233,0.2539120616523936,0.2542759795918532,0.2575131013123024,0.2573411169808567,0.2682889009893354,0.2755528810901482,0.2573411169808567,0.261644771899662,0.2544714276528875,0.2501727333103773,0.2612443971213535,0.2395485447140171,0.2687637386891759,0.2792554434448727,0.2688237835892854,0.2689962112857678,0.250969627989333,0.2803466782543381,0.2764919959056173,0.2586568963300202,0.2694533493167452,0.2688638535620891,0.2428631350435764,0.247143602750923,0.2769027848846477,0.261401166994925,0.2648813328983905,0.2620397906325427,0.2465638635088338,0.2581674285020208,0.2575570321861761,0.2764919959056173,0.2770790617445246,0.2762848818292203,0.2837783402271675,0.2648813328983905,0.2656957321664969,0.2911987939243902,0.2612718315553615,0.2465638635088338,0.2575690173965176,0.250216076220047,0.2501890243710875,0.2539223633652812,0.2538094794261317,0.2755528810901482,0.2504050772302804,0.2610706983863764,0.2694533493167452,0.2654916632218771,0.2762848818292203,0.2504050772302804,0.2654055996840745,0.2580558367836014,0.2648813328983905,0.2690410256757494,0.2539223633652812,0.2688339115993522,0.2797682438559999,0.2656957321664969,0.2504050772302804,0.2575131013123024,0.2695704214973515,0.2546120783030721,0.2537976691547398,0.2577452395366453,0.2508349574901636,0.2583555698601319,0.2690410256757494,0.2583835047220679,0.276295767086101,0.2694533493167452,0.2811794869784503,0.2770790617445246,0.2768719476681275,0.268848384244376,0.2650854018430103,0.2649099733626466,0.2755239470971992,0.2900056640183919,0.34812788839027,0.3732024217501256,0.3912632595340825,0.3312091500881464,0.4132523939964639,0.4140050247835646,0.5081760481194055,0.5646828597270553,0.5545252877930197,0.5735452947194154,0.508214464050757,0.5970082179794314,0.5308162836832374,0.6417373147442528,0.561887467047474,0.5956877100202269,0.6390969732591697,0.6474006176802843,0.5849507420856269,0.6362880127531141,0.6274034050655791,0.6192441238065465,0.6458126894118678,0.5950854551170202,0.5248199500372503,0.5955016952881415,0.5158929716906008,0.5005822606544199,0.2577233502872937,0.2432846592867902,0.2474272128488895,0.2219412195284835,0.2291001261684455,0.238943084626302,0.2324031973263247,0.2326220213300182,0.2293097435696399,0.2470246094943996,0.2435072549652958,0.231947096824579,0.22947317770992,0.22947317770992,0.22947317770992,0.2399795319660195,0.2362094648427286,0.2550345172399872,0.2436333384974839,0.2329147504995198,0.2463782126429324,0.2434038822667942,0.2466990894055675,0.2576800982863018,0.3793702844829973,0.3791529425662853,0.3415571759289743,0.328336531699993,0.3391736176548364,0.299218548824182,0.3442906962246562,0.3409246832175862,0.3314932562847764,0.3578317028168995,0.3113990828997022,0.3161581247876308,0.2770189037856186,0.2925738069102399,0.2848634348646717,0.2769865427163754,0.2734943273976711,0.2473070190445429,0.2583555698601319,0.2473354627333592,0.2621232162650678,0.2503239042602194,0.2396284515366226,0.2545705240057421,0.2363370284232549,0.2356513252765212,0.2584197595427575,0.2466110905669438,0.2357277403437439,0.2356513252765212],\"type\":\"scatter\"}],                        {\"legend\":{\"bgcolor\":\"#F5F6F9\",\"font\":{\"color\":\"#4D5663\"}},\"paper_bgcolor\":\"#F5F6F9\",\"plot_bgcolor\":\"#F5F6F9\",\"template\":{\"data\":{\"barpolar\":[{\"marker\":{\"line\":{\"color\":\"#E5ECF6\",\"width\":0.5},\"pattern\":{\"fillmode\":\"overlay\",\"size\":10,\"solidity\":0.2}},\"type\":\"barpolar\"}],\"bar\":[{\"error_x\":{\"color\":\"#2a3f5f\"},\"error_y\":{\"color\":\"#2a3f5f\"},\"marker\":{\"line\":{\"color\":\"#E5ECF6\",\"width\":0.5},\"pattern\":{\"fillmode\":\"overlay\",\"size\":10,\"solidity\":0.2}},\"type\":\"bar\"}],\"carpet\":[{\"aaxis\":{\"endlinecolor\":\"#2a3f5f\",\"gridcolor\":\"white\",\"linecolor\":\"white\",\"minorgridcolor\":\"white\",\"startlinecolor\":\"#2a3f5f\"},\"baxis\":{\"endlinecolor\":\"#2a3f5f\",\"gridcolor\":\"white\",\"linecolor\":\"white\",\"minorgridcolor\":\"white\",\"startlinecolor\":\"#2a3f5f\"},\"type\":\"carpet\"}],\"choropleth\":[{\"colorbar\":{\"outlinewidth\":0,\"ticks\":\"\"},\"type\":\"choropleth\"}],\"contourcarpet\":[{\"colorbar\":{\"outlinewidth\":0,\"ticks\":\"\"},\"type\":\"contourcarpet\"}],\"contour\":[{\"colorbar\":{\"outlinewidth\":0,\"ticks\":\"\"},\"colorscale\":[[0.0,\"#0d0887\"],[0.1111111111111111,\"#46039f\"],[0.2222222222222222,\"#7201a8\"],[0.3333333333333333,\"#9c179e\"],[0.4444444444444444,\"#bd3786\"],[0.5555555555555556,\"#d8576b\"],[0.6666666666666666,\"#ed7953\"],[0.7777777777777778,\"#fb9f3a\"],[0.8888888888888888,\"#fdca26\"],[1.0,\"#f0f921\"]],\"type\":\"contour\"}],\"heatmapgl\":[{\"colorbar\":{\"outlinewidth\":0,\"ticks\":\"\"},\"colorscale\":[[0.0,\"#0d0887\"],[0.1111111111111111,\"#46039f\"],[0.2222222222222222,\"#7201a8\"],[0.3333333333333333,\"#9c179e\"],[0.4444444444444444,\"#bd3786\"],[0.5555555555555556,\"#d8576b\"],[0.6666666666666666,\"#ed7953\"],[0.7777777777777778,\"#fb9f3a\"],[0.8888888888888888,\"#fdca26\"],[1.0,\"#f0f921\"]],\"type\":\"heatmapgl\"}],\"heatmap\":[{\"colorbar\":{\"outlinewidth\":0,\"ticks\":\"\"},\"colorscale\":[[0.0,\"#0d0887\"],[0.1111111111111111,\"#46039f\"],[0.2222222222222222,\"#7201a8\"],[0.3333333333333333,\"#9c179e\"],[0.4444444444444444,\"#bd3786\"],[0.5555555555555556,\"#d8576b\"],[0.6666666666666666,\"#ed7953\"],[0.7777777777777778,\"#fb9f3a\"],[0.8888888888888888,\"#fdca26\"],[1.0,\"#f0f921\"]],\"type\":\"heatmap\"}],\"histogram2dcontour\":[{\"colorbar\":{\"outlinewidth\":0,\"ticks\":\"\"},\"colorscale\":[[0.0,\"#0d0887\"],[0.1111111111111111,\"#46039f\"],[0.2222222222222222,\"#7201a8\"],[0.3333333333333333,\"#9c179e\"],[0.4444444444444444,\"#bd3786\"],[0.5555555555555556,\"#d8576b\"],[0.6666666666666666,\"#ed7953\"],[0.7777777777777778,\"#fb9f3a\"],[0.8888888888888888,\"#fdca26\"],[1.0,\"#f0f921\"]],\"type\":\"histogram2dcontour\"}],\"histogram2d\":[{\"colorbar\":{\"outlinewidth\":0,\"ticks\":\"\"},\"colorscale\":[[0.0,\"#0d0887\"],[0.1111111111111111,\"#46039f\"],[0.2222222222222222,\"#7201a8\"],[0.3333333333333333,\"#9c179e\"],[0.4444444444444444,\"#bd3786\"],[0.5555555555555556,\"#d8576b\"],[0.6666666666666666,\"#ed7953\"],[0.7777777777777778,\"#fb9f3a\"],[0.8888888888888888,\"#fdca26\"],[1.0,\"#f0f921\"]],\"type\":\"histogram2d\"}],\"histogram\":[{\"marker\":{\"pattern\":{\"fillmode\":\"overlay\",\"size\":10,\"solidity\":0.2}},\"type\":\"histogram\"}],\"mesh3d\":[{\"colorbar\":{\"outlinewidth\":0,\"ticks\":\"\"},\"type\":\"mesh3d\"}],\"parcoords\":[{\"line\":{\"colorbar\":{\"outlinewidth\":0,\"ticks\":\"\"}},\"type\":\"parcoords\"}],\"pie\":[{\"automargin\":true,\"type\":\"pie\"}],\"scatter3d\":[{\"line\":{\"colorbar\":{\"outlinewidth\":0,\"ticks\":\"\"}},\"marker\":{\"colorbar\":{\"outlinewidth\":0,\"ticks\":\"\"}},\"type\":\"scatter3d\"}],\"scattercarpet\":[{\"marker\":{\"colorbar\":{\"outlinewidth\":0,\"ticks\":\"\"}},\"type\":\"scattercarpet\"}],\"scattergeo\":[{\"marker\":{\"colorbar\":{\"outlinewidth\":0,\"ticks\":\"\"}},\"type\":\"scattergeo\"}],\"scattergl\":[{\"marker\":{\"colorbar\":{\"outlinewidth\":0,\"ticks\":\"\"}},\"type\":\"scattergl\"}],\"scattermapbox\":[{\"marker\":{\"colorbar\":{\"outlinewidth\":0,\"ticks\":\"\"}},\"type\":\"scattermapbox\"}],\"scatterpolargl\":[{\"marker\":{\"colorbar\":{\"outlinewidth\":0,\"ticks\":\"\"}},\"type\":\"scatterpolargl\"}],\"scatterpolar\":[{\"marker\":{\"colorbar\":{\"outlinewidth\":0,\"ticks\":\"\"}},\"type\":\"scatterpolar\"}],\"scatter\":[{\"fillpattern\":{\"fillmode\":\"overlay\",\"size\":10,\"solidity\":0.2},\"type\":\"scatter\"}],\"scatterternary\":[{\"marker\":{\"colorbar\":{\"outlinewidth\":0,\"ticks\":\"\"}},\"type\":\"scatterternary\"}],\"surface\":[{\"colorbar\":{\"outlinewidth\":0,\"ticks\":\"\"},\"colorscale\":[[0.0,\"#0d0887\"],[0.1111111111111111,\"#46039f\"],[0.2222222222222222,\"#7201a8\"],[0.3333333333333333,\"#9c179e\"],[0.4444444444444444,\"#bd3786\"],[0.5555555555555556,\"#d8576b\"],[0.6666666666666666,\"#ed7953\"],[0.7777777777777778,\"#fb9f3a\"],[0.8888888888888888,\"#fdca26\"],[1.0,\"#f0f921\"]],\"type\":\"surface\"}],\"table\":[{\"cells\":{\"fill\":{\"color\":\"#EBF0F8\"},\"line\":{\"color\":\"white\"}},\"header\":{\"fill\":{\"color\":\"#C8D4E3\"},\"line\":{\"color\":\"white\"}},\"type\":\"table\"}]},\"layout\":{\"annotationdefaults\":{\"arrowcolor\":\"#2a3f5f\",\"arrowhead\":0,\"arrowwidth\":1},\"autotypenumbers\":\"strict\",\"coloraxis\":{\"colorbar\":{\"outlinewidth\":0,\"ticks\":\"\"}},\"colorscale\":{\"diverging\":[[0,\"#8e0152\"],[0.1,\"#c51b7d\"],[0.2,\"#de77ae\"],[0.3,\"#f1b6da\"],[0.4,\"#fde0ef\"],[0.5,\"#f7f7f7\"],[0.6,\"#e6f5d0\"],[0.7,\"#b8e186\"],[0.8,\"#7fbc41\"],[0.9,\"#4d9221\"],[1,\"#276419\"]],\"sequential\":[[0.0,\"#0d0887\"],[0.1111111111111111,\"#46039f\"],[0.2222222222222222,\"#7201a8\"],[0.3333333333333333,\"#9c179e\"],[0.4444444444444444,\"#bd3786\"],[0.5555555555555556,\"#d8576b\"],[0.6666666666666666,\"#ed7953\"],[0.7777777777777778,\"#fb9f3a\"],[0.8888888888888888,\"#fdca26\"],[1.0,\"#f0f921\"]],\"sequentialminus\":[[0.0,\"#0d0887\"],[0.1111111111111111,\"#46039f\"],[0.2222222222222222,\"#7201a8\"],[0.3333333333333333,\"#9c179e\"],[0.4444444444444444,\"#bd3786\"],[0.5555555555555556,\"#d8576b\"],[0.6666666666666666,\"#ed7953\"],[0.7777777777777778,\"#fb9f3a\"],[0.8888888888888888,\"#fdca26\"],[1.0,\"#f0f921\"]]},\"colorway\":[\"#636efa\",\"#EF553B\",\"#00cc96\",\"#ab63fa\",\"#FFA15A\",\"#19d3f3\",\"#FF6692\",\"#B6E880\",\"#FF97FF\",\"#FECB52\"],\"font\":{\"color\":\"#2a3f5f\"},\"geo\":{\"bgcolor\":\"white\",\"lakecolor\":\"white\",\"landcolor\":\"#E5ECF6\",\"showlakes\":true,\"showland\":true,\"subunitcolor\":\"white\"},\"hoverlabel\":{\"align\":\"left\"},\"hovermode\":\"closest\",\"mapbox\":{\"style\":\"light\"},\"paper_bgcolor\":\"white\",\"plot_bgcolor\":\"#E5ECF6\",\"polar\":{\"angularaxis\":{\"gridcolor\":\"white\",\"linecolor\":\"white\",\"ticks\":\"\"},\"bgcolor\":\"#E5ECF6\",\"radialaxis\":{\"gridcolor\":\"white\",\"linecolor\":\"white\",\"ticks\":\"\"}},\"scene\":{\"xaxis\":{\"backgroundcolor\":\"#E5ECF6\",\"gridcolor\":\"white\",\"gridwidth\":2,\"linecolor\":\"white\",\"showbackground\":true,\"ticks\":\"\",\"zerolinecolor\":\"white\"},\"yaxis\":{\"backgroundcolor\":\"#E5ECF6\",\"gridcolor\":\"white\",\"gridwidth\":2,\"linecolor\":\"white\",\"showbackground\":true,\"ticks\":\"\",\"zerolinecolor\":\"white\"},\"zaxis\":{\"backgroundcolor\":\"#E5ECF6\",\"gridcolor\":\"white\",\"gridwidth\":2,\"linecolor\":\"white\",\"showbackground\":true,\"ticks\":\"\",\"zerolinecolor\":\"white\"}},\"shapedefaults\":{\"line\":{\"color\":\"#2a3f5f\"}},\"ternary\":{\"aaxis\":{\"gridcolor\":\"white\",\"linecolor\":\"white\",\"ticks\":\"\"},\"baxis\":{\"gridcolor\":\"white\",\"linecolor\":\"white\",\"ticks\":\"\"},\"bgcolor\":\"#E5ECF6\",\"caxis\":{\"gridcolor\":\"white\",\"linecolor\":\"white\",\"ticks\":\"\"}},\"title\":{\"x\":0.05},\"xaxis\":{\"automargin\":true,\"gridcolor\":\"white\",\"linecolor\":\"white\",\"ticks\":\"\",\"title\":{\"standoff\":15},\"zerolinecolor\":\"white\",\"zerolinewidth\":2},\"yaxis\":{\"automargin\":true,\"gridcolor\":\"white\",\"linecolor\":\"white\",\"ticks\":\"\",\"title\":{\"standoff\":15},\"zerolinecolor\":\"white\",\"zerolinewidth\":2}}},\"title\":{\"font\":{\"color\":\"#4D5663\"},\"text\":\"MOUTH_ASPECT_RATIO\"},\"xaxis\":{\"gridcolor\":\"#E1E5ED\",\"showgrid\":true,\"tickfont\":{\"color\":\"#4D5663\"},\"title\":{\"font\":{\"color\":\"#4D5663\"},\"text\":\"\"},\"zerolinecolor\":\"#E1E5ED\"},\"yaxis\":{\"gridcolor\":\"#E1E5ED\",\"showgrid\":true,\"tickfont\":{\"color\":\"#4D5663\"},\"title\":{\"font\":{\"color\":\"#4D5663\"},\"text\":\"\"},\"zerolinecolor\":\"#E1E5ED\"}},                        {\"showLink\": true, \"linkText\": \"Export to plot.ly\", \"plotlyServerURL\": \"https://plot.ly\", \"responsive\": true}                    ).then(function(){\n",
       "                            \n",
       "var gd = document.getElementById('b2f30e03-fa0b-4f2e-9d26-d88f790d4cb7');\n",
       "var x = new MutationObserver(function (mutations, observer) {{\n",
       "        var display = window.getComputedStyle(gd).display;\n",
       "        if (!display || display === 'none') {{\n",
       "            console.log([gd, 'removed!']);\n",
       "            Plotly.purge(gd);\n",
       "            observer.disconnect();\n",
       "        }}\n",
       "}});\n",
       "\n",
       "// Listen for the removal of the full notebook cells\n",
       "var notebookContainer = gd.closest('#notebook-container');\n",
       "if (notebookContainer) {{\n",
       "    x.observe(notebookContainer, {childList: true});\n",
       "}}\n",
       "\n",
       "// Listen for the clearing of the current output cell\n",
       "var outputEl = gd.closest('.output');\n",
       "if (outputEl) {{\n",
       "    x.observe(outputEl, {childList: true});\n",
       "}}\n",
       "\n",
       "                        })                };                });            </script>        </div>"
      ]
     },
     "metadata": {},
     "output_type": "display_data"
    }
   ],
   "source": [
    "colname2=['MAR','frames']\n",
    "d2=pd.read_csv('mar.csv',names=colname2)\n",
    "d2.to_csv('mar.csv',index=False)\n",
    "d2['frames']=d2.index\n",
    "d2.iplot(kind='scatter',x=\"frames\",y=\"MAR\",title='MOUTH_ASPECT_RATIO',\n",
    "       labels={\n",
    "           'frames':\"FRAMES\",\n",
    "           'EAR':\"Aspect Ratio\"\n",
    "       },)\n"
   ]
  },
  {
   "cell_type": "code",
   "execution_count": 11,
   "id": "fd53848e",
   "metadata": {},
   "outputs": [],
   "source": [
    "d.drop(['EAR','frames'],axis=1,inplace=True)\n",
    "d.to_csv('ear1.csv',index=False)\n",
    "d2.drop(['MAR','frames'],axis=1,inplace=True)\n",
    "d2.to_csv('mar.csv',index=False)"
   ]
  },
  {
   "cell_type": "code",
   "execution_count": null,
   "id": "d8770572",
   "metadata": {},
   "outputs": [],
   "source": []
  }
 ],
 "metadata": {
  "kernelspec": {
   "display_name": "Python 3 (ipykernel)",
   "language": "python",
   "name": "python3"
  },
  "language_info": {
   "codemirror_mode": {
    "name": "ipython",
    "version": 3
   },
   "file_extension": ".py",
   "mimetype": "text/x-python",
   "name": "python",
   "nbconvert_exporter": "python",
   "pygments_lexer": "ipython3",
   "version": "3.10.9"
  }
 },
 "nbformat": 4,
 "nbformat_minor": 5
}
